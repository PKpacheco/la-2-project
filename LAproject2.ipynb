{
  "nbformat": 4,
  "nbformat_minor": 0,
  "metadata": {
    "colab": {
      "provenance": [],
      "mount_file_id": "1e8hq8IuKCFJ8Hldptj91y8w5q4T7kCLx",
      "authorship_tag": "ABX9TyN/GuMpU7WGbmGR0FQfQ+Ql",
      "include_colab_link": true
    },
    "kernelspec": {
      "name": "python3",
      "display_name": "Python 3"
    },
    "language_info": {
      "name": "python"
    }
  },
  "cells": [
    {
      "cell_type": "markdown",
      "metadata": {
        "id": "view-in-github",
        "colab_type": "text"
      },
      "source": [
        "<a href=\"https://colab.research.google.com/github/PKpacheco/la-2-project/blob/main/LAproject2.ipynb\" target=\"_parent\"><img src=\"https://colab.research.google.com/assets/colab-badge.svg\" alt=\"Open In Colab\"/></a>"
      ]
    },
    {
      "cell_type": "code",
      "execution_count": 2,
      "metadata": {
        "id": "eYtcO9yuXhOv"
      },
      "outputs": [],
      "source": [
        "import pandas as pd\n",
        "import numpy as np\n",
        "import plotly.express as px"
      ]
    },
    {
      "cell_type": "code",
      "source": [
        "csv_file_drive = \"/content/drive/MyDrive/rrc/algebra/excel_la2.csv\"\n",
        "csv_data = pd.read_csv(csv_file_drive, encoding = \"utf-8\")\n",
        "csv_data"
      ],
      "metadata": {
        "colab": {
          "base_uri": "https://localhost:8080/",
          "height": 363
        },
        "id": "QEH9kkJINOQs",
        "outputId": "1e07bf16-d3f3-4d53-9ac9-066837fcca1e"
      },
      "execution_count": 62,
      "outputs": [
        {
          "output_type": "execute_result",
          "data": {
            "text/plain": [
              "  condition    voltage      current  temperature\n",
              "0    normal  13.036111   458.460370     6.879090\n",
              "1    normal  11.135509   458.156781     6.394905\n",
              "2    normal  10.296578   459.431151     2.736525\n",
              "3    normal  10.553064   457.141002     5.624983\n",
              "4    normal   9.880487   460.601899     1.843793\n",
              "5    failed  27.614720  4610.433851    56.440862\n",
              "6    failed  28.455265  4597.874476    55.236113\n",
              "7    failed  33.977884  4591.018036    48.824006\n",
              "8    failed  24.817434  4615.117584    46.895674\n",
              "9    failed  23.380610  4592.524455    52.920179"
            ],
            "text/html": [
              "\n",
              "  <div id=\"df-5e50db30-25dc-422b-8250-430029c74ae0\">\n",
              "    <div class=\"colab-df-container\">\n",
              "      <div>\n",
              "<style scoped>\n",
              "    .dataframe tbody tr th:only-of-type {\n",
              "        vertical-align: middle;\n",
              "    }\n",
              "\n",
              "    .dataframe tbody tr th {\n",
              "        vertical-align: top;\n",
              "    }\n",
              "\n",
              "    .dataframe thead th {\n",
              "        text-align: right;\n",
              "    }\n",
              "</style>\n",
              "<table border=\"1\" class=\"dataframe\">\n",
              "  <thead>\n",
              "    <tr style=\"text-align: right;\">\n",
              "      <th></th>\n",
              "      <th>condition</th>\n",
              "      <th>voltage</th>\n",
              "      <th>current</th>\n",
              "      <th>temperature</th>\n",
              "    </tr>\n",
              "  </thead>\n",
              "  <tbody>\n",
              "    <tr>\n",
              "      <th>0</th>\n",
              "      <td>normal</td>\n",
              "      <td>13.036111</td>\n",
              "      <td>458.460370</td>\n",
              "      <td>6.879090</td>\n",
              "    </tr>\n",
              "    <tr>\n",
              "      <th>1</th>\n",
              "      <td>normal</td>\n",
              "      <td>11.135509</td>\n",
              "      <td>458.156781</td>\n",
              "      <td>6.394905</td>\n",
              "    </tr>\n",
              "    <tr>\n",
              "      <th>2</th>\n",
              "      <td>normal</td>\n",
              "      <td>10.296578</td>\n",
              "      <td>459.431151</td>\n",
              "      <td>2.736525</td>\n",
              "    </tr>\n",
              "    <tr>\n",
              "      <th>3</th>\n",
              "      <td>normal</td>\n",
              "      <td>10.553064</td>\n",
              "      <td>457.141002</td>\n",
              "      <td>5.624983</td>\n",
              "    </tr>\n",
              "    <tr>\n",
              "      <th>4</th>\n",
              "      <td>normal</td>\n",
              "      <td>9.880487</td>\n",
              "      <td>460.601899</td>\n",
              "      <td>1.843793</td>\n",
              "    </tr>\n",
              "    <tr>\n",
              "      <th>5</th>\n",
              "      <td>failed</td>\n",
              "      <td>27.614720</td>\n",
              "      <td>4610.433851</td>\n",
              "      <td>56.440862</td>\n",
              "    </tr>\n",
              "    <tr>\n",
              "      <th>6</th>\n",
              "      <td>failed</td>\n",
              "      <td>28.455265</td>\n",
              "      <td>4597.874476</td>\n",
              "      <td>55.236113</td>\n",
              "    </tr>\n",
              "    <tr>\n",
              "      <th>7</th>\n",
              "      <td>failed</td>\n",
              "      <td>33.977884</td>\n",
              "      <td>4591.018036</td>\n",
              "      <td>48.824006</td>\n",
              "    </tr>\n",
              "    <tr>\n",
              "      <th>8</th>\n",
              "      <td>failed</td>\n",
              "      <td>24.817434</td>\n",
              "      <td>4615.117584</td>\n",
              "      <td>46.895674</td>\n",
              "    </tr>\n",
              "    <tr>\n",
              "      <th>9</th>\n",
              "      <td>failed</td>\n",
              "      <td>23.380610</td>\n",
              "      <td>4592.524455</td>\n",
              "      <td>52.920179</td>\n",
              "    </tr>\n",
              "  </tbody>\n",
              "</table>\n",
              "</div>\n",
              "      <button class=\"colab-df-convert\" onclick=\"convertToInteractive('df-5e50db30-25dc-422b-8250-430029c74ae0')\"\n",
              "              title=\"Convert this dataframe to an interactive table.\"\n",
              "              style=\"display:none;\">\n",
              "        \n",
              "  <svg xmlns=\"http://www.w3.org/2000/svg\" height=\"24px\"viewBox=\"0 0 24 24\"\n",
              "       width=\"24px\">\n",
              "    <path d=\"M0 0h24v24H0V0z\" fill=\"none\"/>\n",
              "    <path d=\"M18.56 5.44l.94 2.06.94-2.06 2.06-.94-2.06-.94-.94-2.06-.94 2.06-2.06.94zm-11 1L8.5 8.5l.94-2.06 2.06-.94-2.06-.94L8.5 2.5l-.94 2.06-2.06.94zm10 10l.94 2.06.94-2.06 2.06-.94-2.06-.94-.94-2.06-.94 2.06-2.06.94z\"/><path d=\"M17.41 7.96l-1.37-1.37c-.4-.4-.92-.59-1.43-.59-.52 0-1.04.2-1.43.59L10.3 9.45l-7.72 7.72c-.78.78-.78 2.05 0 2.83L4 21.41c.39.39.9.59 1.41.59.51 0 1.02-.2 1.41-.59l7.78-7.78 2.81-2.81c.8-.78.8-2.07 0-2.86zM5.41 20L4 18.59l7.72-7.72 1.47 1.35L5.41 20z\"/>\n",
              "  </svg>\n",
              "      </button>\n",
              "      \n",
              "  <style>\n",
              "    .colab-df-container {\n",
              "      display:flex;\n",
              "      flex-wrap:wrap;\n",
              "      gap: 12px;\n",
              "    }\n",
              "\n",
              "    .colab-df-convert {\n",
              "      background-color: #E8F0FE;\n",
              "      border: none;\n",
              "      border-radius: 50%;\n",
              "      cursor: pointer;\n",
              "      display: none;\n",
              "      fill: #1967D2;\n",
              "      height: 32px;\n",
              "      padding: 0 0 0 0;\n",
              "      width: 32px;\n",
              "    }\n",
              "\n",
              "    .colab-df-convert:hover {\n",
              "      background-color: #E2EBFA;\n",
              "      box-shadow: 0px 1px 2px rgba(60, 64, 67, 0.3), 0px 1px 3px 1px rgba(60, 64, 67, 0.15);\n",
              "      fill: #174EA6;\n",
              "    }\n",
              "\n",
              "    [theme=dark] .colab-df-convert {\n",
              "      background-color: #3B4455;\n",
              "      fill: #D2E3FC;\n",
              "    }\n",
              "\n",
              "    [theme=dark] .colab-df-convert:hover {\n",
              "      background-color: #434B5C;\n",
              "      box-shadow: 0px 1px 3px 1px rgba(0, 0, 0, 0.15);\n",
              "      filter: drop-shadow(0px 1px 2px rgba(0, 0, 0, 0.3));\n",
              "      fill: #FFFFFF;\n",
              "    }\n",
              "  </style>\n",
              "\n",
              "      <script>\n",
              "        const buttonEl =\n",
              "          document.querySelector('#df-5e50db30-25dc-422b-8250-430029c74ae0 button.colab-df-convert');\n",
              "        buttonEl.style.display =\n",
              "          google.colab.kernel.accessAllowed ? 'block' : 'none';\n",
              "\n",
              "        async function convertToInteractive(key) {\n",
              "          const element = document.querySelector('#df-5e50db30-25dc-422b-8250-430029c74ae0');\n",
              "          const dataTable =\n",
              "            await google.colab.kernel.invokeFunction('convertToInteractive',\n",
              "                                                     [key], {});\n",
              "          if (!dataTable) return;\n",
              "\n",
              "          const docLinkHtml = 'Like what you see? Visit the ' +\n",
              "            '<a target=\"_blank\" href=https://colab.research.google.com/notebooks/data_table.ipynb>data table notebook</a>'\n",
              "            + ' to learn more about interactive tables.';\n",
              "          element.innerHTML = '';\n",
              "          dataTable['output_type'] = 'display_data';\n",
              "          await google.colab.output.renderOutput(dataTable, element);\n",
              "          const docLink = document.createElement('div');\n",
              "          docLink.innerHTML = docLinkHtml;\n",
              "          element.appendChild(docLink);\n",
              "        }\n",
              "      </script>\n",
              "    </div>\n",
              "  </div>\n",
              "  "
            ]
          },
          "metadata": {},
          "execution_count": 62
        }
      ]
    },
    {
      "cell_type": "code",
      "source": [
        "csv_data.info()"
      ],
      "metadata": {
        "colab": {
          "base_uri": "https://localhost:8080/"
        },
        "id": "1c2EGW8yIO3t",
        "outputId": "17986285-2f4b-46df-922a-c587a70ac1f9"
      },
      "execution_count": 63,
      "outputs": [
        {
          "output_type": "stream",
          "name": "stdout",
          "text": [
            "<class 'pandas.core.frame.DataFrame'>\n",
            "RangeIndex: 10 entries, 0 to 9\n",
            "Data columns (total 4 columns):\n",
            " #   Column       Non-Null Count  Dtype  \n",
            "---  ------       --------------  -----  \n",
            " 0   condition    10 non-null     object \n",
            " 1   voltage      10 non-null     float64\n",
            " 2   current      10 non-null     float64\n",
            " 3   temperature  10 non-null     float64\n",
            "dtypes: float64(3), object(1)\n",
            "memory usage: 448.0+ bytes\n"
          ]
        }
      ]
    },
    {
      "cell_type": "code",
      "source": [
        "csv_data.info()"
      ],
      "metadata": {
        "colab": {
          "base_uri": "https://localhost:8080/"
        },
        "id": "90z8ArRbIodv",
        "outputId": "7d1f3c9a-ea47-4751-996a-acf297822c0b"
      },
      "execution_count": 12,
      "outputs": [
        {
          "output_type": "stream",
          "name": "stdout",
          "text": [
            "<class 'pandas.core.frame.DataFrame'>\n",
            "RangeIndex: 10 entries, 0 to 9\n",
            "Data columns (total 4 columns):\n",
            " #   Column       Non-Null Count  Dtype  \n",
            "---  ------       --------------  -----  \n",
            " 0   condition    10 non-null     object \n",
            " 1   voltage      10 non-null     float64\n",
            " 2   current      10 non-null     float64\n",
            " 3   temperature  10 non-null     float64\n",
            "dtypes: float64(3), object(1)\n",
            "memory usage: 448.0+ bytes\n"
          ]
        }
      ]
    },
    {
      "cell_type": "markdown",
      "source": [
        "Question 1 - a)\n",
        "Calculate the mean"
      ],
      "metadata": {
        "id": "_Niz2suDJ6ml"
      }
    },
    {
      "cell_type": "code",
      "source": [
        "mean_voltage = csv_data['voltage'].mean().round(2)\n",
        "mean_current = csv_data['current'].mean().round(2)\n",
        "mean_temperature = csv_data['temperature'].mean().round(2)\n",
        "\n",
        "print ('mean_voltage', mean_voltage,\n",
        "       'mean_current', mean_current,\n",
        "       'mean_temperature',mean_temperature)\n"
      ],
      "metadata": {
        "colab": {
          "base_uri": "https://localhost:8080/"
        },
        "id": "ueCE16JaItp6",
        "outputId": "2c7e8158-3af8-4497-cec5-ccb87c621e2f"
      },
      "execution_count": 138,
      "outputs": [
        {
          "output_type": "stream",
          "name": "stdout",
          "text": [
            "mean_voltage 19.31 mean_current 2530.08 mean_temperature 28.38\n"
          ]
        }
      ]
    },
    {
      "cell_type": "markdown",
      "source": [
        "Question 1 - b)\n",
        "Calculate the std dev"
      ],
      "metadata": {
        "id": "uwBE5kL4KEBT"
      }
    },
    {
      "cell_type": "code",
      "source": [
        "std_voltage = csv_data['voltage'].std().round(2)\n",
        "std_current = csv_data['current'].std().round(2)\n",
        "std_temperature = csv_data['temperature'].std().round(2)\n",
        "\n",
        "print ('std_voltage', std_voltage,\n",
        "       'std_current', std_current,\n",
        "       'std_temperature',std_temperature)"
      ],
      "metadata": {
        "colab": {
          "base_uri": "https://localhost:8080/"
        },
        "id": "7G7vYaXrKH1a",
        "outputId": "93e96356-9c99-4a5a-c99b-c50630949ece"
      },
      "execution_count": 139,
      "outputs": [
        {
          "output_type": "stream",
          "name": "stdout",
          "text": [
            "std_voltage 9.24 std_current 2183.37 std_temperature 25.16\n"
          ]
        }
      ]
    },
    {
      "cell_type": "markdown",
      "source": [
        "Question 2 - a)\n",
        "standardized voltage"
      ],
      "metadata": {
        "id": "f5jgPPRCLHXL"
      }
    },
    {
      "cell_type": "code",
      "source": [
        "csv_data['standardized_voltage'] = ((csv_data['voltage'] - mean_voltage )/ std_voltage).round(2)\n",
        "csv_data.head()"
      ],
      "metadata": {
        "colab": {
          "base_uri": "https://localhost:8080/",
          "height": 250
        },
        "id": "vKN4X-WpLQwF",
        "outputId": "3c91d71b-ce13-499b-a8f6-45e5c4c38c6c"
      },
      "execution_count": 141,
      "outputs": [
        {
          "output_type": "execute_result",
          "data": {
            "text/plain": [
              "  condition    voltage     current  temperature  standardized_voltage  \\\n",
              "0    normal  13.036111  458.460370     6.879090                 -0.68   \n",
              "1    normal  11.135509  458.156781     6.394905                 -0.88   \n",
              "2    normal  10.296578  459.431151     2.736525                 -0.98   \n",
              "3    normal  10.553064  457.141002     5.624983                 -0.95   \n",
              "4    normal   9.880487  460.601899     1.843793                 -1.02   \n",
              "\n",
              "   standardized_current  standardized_temperature  \n",
              "0             -0.948814                 -0.854580  \n",
              "1             -0.948954                 -0.873825  \n",
              "2             -0.948370                 -1.019234  \n",
              "3             -0.949419                 -0.904427  \n",
              "4             -0.947834                 -1.054718  "
            ],
            "text/html": [
              "\n",
              "  <div id=\"df-15bdda51-204c-4b1a-b914-1d87d46a20e5\">\n",
              "    <div class=\"colab-df-container\">\n",
              "      <div>\n",
              "<style scoped>\n",
              "    .dataframe tbody tr th:only-of-type {\n",
              "        vertical-align: middle;\n",
              "    }\n",
              "\n",
              "    .dataframe tbody tr th {\n",
              "        vertical-align: top;\n",
              "    }\n",
              "\n",
              "    .dataframe thead th {\n",
              "        text-align: right;\n",
              "    }\n",
              "</style>\n",
              "<table border=\"1\" class=\"dataframe\">\n",
              "  <thead>\n",
              "    <tr style=\"text-align: right;\">\n",
              "      <th></th>\n",
              "      <th>condition</th>\n",
              "      <th>voltage</th>\n",
              "      <th>current</th>\n",
              "      <th>temperature</th>\n",
              "      <th>standardized_voltage</th>\n",
              "      <th>standardized_current</th>\n",
              "      <th>standardized_temperature</th>\n",
              "    </tr>\n",
              "  </thead>\n",
              "  <tbody>\n",
              "    <tr>\n",
              "      <th>0</th>\n",
              "      <td>normal</td>\n",
              "      <td>13.036111</td>\n",
              "      <td>458.460370</td>\n",
              "      <td>6.879090</td>\n",
              "      <td>-0.68</td>\n",
              "      <td>-0.948814</td>\n",
              "      <td>-0.854580</td>\n",
              "    </tr>\n",
              "    <tr>\n",
              "      <th>1</th>\n",
              "      <td>normal</td>\n",
              "      <td>11.135509</td>\n",
              "      <td>458.156781</td>\n",
              "      <td>6.394905</td>\n",
              "      <td>-0.88</td>\n",
              "      <td>-0.948954</td>\n",
              "      <td>-0.873825</td>\n",
              "    </tr>\n",
              "    <tr>\n",
              "      <th>2</th>\n",
              "      <td>normal</td>\n",
              "      <td>10.296578</td>\n",
              "      <td>459.431151</td>\n",
              "      <td>2.736525</td>\n",
              "      <td>-0.98</td>\n",
              "      <td>-0.948370</td>\n",
              "      <td>-1.019234</td>\n",
              "    </tr>\n",
              "    <tr>\n",
              "      <th>3</th>\n",
              "      <td>normal</td>\n",
              "      <td>10.553064</td>\n",
              "      <td>457.141002</td>\n",
              "      <td>5.624983</td>\n",
              "      <td>-0.95</td>\n",
              "      <td>-0.949419</td>\n",
              "      <td>-0.904427</td>\n",
              "    </tr>\n",
              "    <tr>\n",
              "      <th>4</th>\n",
              "      <td>normal</td>\n",
              "      <td>9.880487</td>\n",
              "      <td>460.601899</td>\n",
              "      <td>1.843793</td>\n",
              "      <td>-1.02</td>\n",
              "      <td>-0.947834</td>\n",
              "      <td>-1.054718</td>\n",
              "    </tr>\n",
              "  </tbody>\n",
              "</table>\n",
              "</div>\n",
              "      <button class=\"colab-df-convert\" onclick=\"convertToInteractive('df-15bdda51-204c-4b1a-b914-1d87d46a20e5')\"\n",
              "              title=\"Convert this dataframe to an interactive table.\"\n",
              "              style=\"display:none;\">\n",
              "        \n",
              "  <svg xmlns=\"http://www.w3.org/2000/svg\" height=\"24px\"viewBox=\"0 0 24 24\"\n",
              "       width=\"24px\">\n",
              "    <path d=\"M0 0h24v24H0V0z\" fill=\"none\"/>\n",
              "    <path d=\"M18.56 5.44l.94 2.06.94-2.06 2.06-.94-2.06-.94-.94-2.06-.94 2.06-2.06.94zm-11 1L8.5 8.5l.94-2.06 2.06-.94-2.06-.94L8.5 2.5l-.94 2.06-2.06.94zm10 10l.94 2.06.94-2.06 2.06-.94-2.06-.94-.94-2.06-.94 2.06-2.06.94z\"/><path d=\"M17.41 7.96l-1.37-1.37c-.4-.4-.92-.59-1.43-.59-.52 0-1.04.2-1.43.59L10.3 9.45l-7.72 7.72c-.78.78-.78 2.05 0 2.83L4 21.41c.39.39.9.59 1.41.59.51 0 1.02-.2 1.41-.59l7.78-7.78 2.81-2.81c.8-.78.8-2.07 0-2.86zM5.41 20L4 18.59l7.72-7.72 1.47 1.35L5.41 20z\"/>\n",
              "  </svg>\n",
              "      </button>\n",
              "      \n",
              "  <style>\n",
              "    .colab-df-container {\n",
              "      display:flex;\n",
              "      flex-wrap:wrap;\n",
              "      gap: 12px;\n",
              "    }\n",
              "\n",
              "    .colab-df-convert {\n",
              "      background-color: #E8F0FE;\n",
              "      border: none;\n",
              "      border-radius: 50%;\n",
              "      cursor: pointer;\n",
              "      display: none;\n",
              "      fill: #1967D2;\n",
              "      height: 32px;\n",
              "      padding: 0 0 0 0;\n",
              "      width: 32px;\n",
              "    }\n",
              "\n",
              "    .colab-df-convert:hover {\n",
              "      background-color: #E2EBFA;\n",
              "      box-shadow: 0px 1px 2px rgba(60, 64, 67, 0.3), 0px 1px 3px 1px rgba(60, 64, 67, 0.15);\n",
              "      fill: #174EA6;\n",
              "    }\n",
              "\n",
              "    [theme=dark] .colab-df-convert {\n",
              "      background-color: #3B4455;\n",
              "      fill: #D2E3FC;\n",
              "    }\n",
              "\n",
              "    [theme=dark] .colab-df-convert:hover {\n",
              "      background-color: #434B5C;\n",
              "      box-shadow: 0px 1px 3px 1px rgba(0, 0, 0, 0.15);\n",
              "      filter: drop-shadow(0px 1px 2px rgba(0, 0, 0, 0.3));\n",
              "      fill: #FFFFFF;\n",
              "    }\n",
              "  </style>\n",
              "\n",
              "      <script>\n",
              "        const buttonEl =\n",
              "          document.querySelector('#df-15bdda51-204c-4b1a-b914-1d87d46a20e5 button.colab-df-convert');\n",
              "        buttonEl.style.display =\n",
              "          google.colab.kernel.accessAllowed ? 'block' : 'none';\n",
              "\n",
              "        async function convertToInteractive(key) {\n",
              "          const element = document.querySelector('#df-15bdda51-204c-4b1a-b914-1d87d46a20e5');\n",
              "          const dataTable =\n",
              "            await google.colab.kernel.invokeFunction('convertToInteractive',\n",
              "                                                     [key], {});\n",
              "          if (!dataTable) return;\n",
              "\n",
              "          const docLinkHtml = 'Like what you see? Visit the ' +\n",
              "            '<a target=\"_blank\" href=https://colab.research.google.com/notebooks/data_table.ipynb>data table notebook</a>'\n",
              "            + ' to learn more about interactive tables.';\n",
              "          element.innerHTML = '';\n",
              "          dataTable['output_type'] = 'display_data';\n",
              "          await google.colab.output.renderOutput(dataTable, element);\n",
              "          const docLink = document.createElement('div');\n",
              "          docLink.innerHTML = docLinkHtml;\n",
              "          element.appendChild(docLink);\n",
              "        }\n",
              "      </script>\n",
              "    </div>\n",
              "  </div>\n",
              "  "
            ]
          },
          "metadata": {},
          "execution_count": 141
        }
      ]
    },
    {
      "cell_type": "markdown",
      "source": [
        "Question 2 - b)\n",
        "standardized current"
      ],
      "metadata": {
        "id": "zMHZf7DCMm7S"
      }
    },
    {
      "cell_type": "code",
      "source": [
        "csv_data['standardized_current'] = ((csv_data['current'] - mean_current )/ std_current).round(2)\n",
        "csv_data.head()"
      ],
      "metadata": {
        "colab": {
          "base_uri": "https://localhost:8080/",
          "height": 250
        },
        "id": "xmgKZIm_Msix",
        "outputId": "2392744d-e370-4520-80cb-62c863db5b95"
      },
      "execution_count": 142,
      "outputs": [
        {
          "output_type": "execute_result",
          "data": {
            "text/plain": [
              "  condition    voltage     current  temperature  standardized_voltage  \\\n",
              "0    normal  13.036111  458.460370     6.879090                 -0.68   \n",
              "1    normal  11.135509  458.156781     6.394905                 -0.88   \n",
              "2    normal  10.296578  459.431151     2.736525                 -0.98   \n",
              "3    normal  10.553064  457.141002     5.624983                 -0.95   \n",
              "4    normal   9.880487  460.601899     1.843793                 -1.02   \n",
              "\n",
              "   standardized_current  standardized_temperature  \n",
              "0                 -0.95                 -0.854580  \n",
              "1                 -0.95                 -0.873825  \n",
              "2                 -0.95                 -1.019234  \n",
              "3                 -0.95                 -0.904427  \n",
              "4                 -0.95                 -1.054718  "
            ],
            "text/html": [
              "\n",
              "  <div id=\"df-2063a611-e426-44a0-8486-07694a780273\">\n",
              "    <div class=\"colab-df-container\">\n",
              "      <div>\n",
              "<style scoped>\n",
              "    .dataframe tbody tr th:only-of-type {\n",
              "        vertical-align: middle;\n",
              "    }\n",
              "\n",
              "    .dataframe tbody tr th {\n",
              "        vertical-align: top;\n",
              "    }\n",
              "\n",
              "    .dataframe thead th {\n",
              "        text-align: right;\n",
              "    }\n",
              "</style>\n",
              "<table border=\"1\" class=\"dataframe\">\n",
              "  <thead>\n",
              "    <tr style=\"text-align: right;\">\n",
              "      <th></th>\n",
              "      <th>condition</th>\n",
              "      <th>voltage</th>\n",
              "      <th>current</th>\n",
              "      <th>temperature</th>\n",
              "      <th>standardized_voltage</th>\n",
              "      <th>standardized_current</th>\n",
              "      <th>standardized_temperature</th>\n",
              "    </tr>\n",
              "  </thead>\n",
              "  <tbody>\n",
              "    <tr>\n",
              "      <th>0</th>\n",
              "      <td>normal</td>\n",
              "      <td>13.036111</td>\n",
              "      <td>458.460370</td>\n",
              "      <td>6.879090</td>\n",
              "      <td>-0.68</td>\n",
              "      <td>-0.95</td>\n",
              "      <td>-0.854580</td>\n",
              "    </tr>\n",
              "    <tr>\n",
              "      <th>1</th>\n",
              "      <td>normal</td>\n",
              "      <td>11.135509</td>\n",
              "      <td>458.156781</td>\n",
              "      <td>6.394905</td>\n",
              "      <td>-0.88</td>\n",
              "      <td>-0.95</td>\n",
              "      <td>-0.873825</td>\n",
              "    </tr>\n",
              "    <tr>\n",
              "      <th>2</th>\n",
              "      <td>normal</td>\n",
              "      <td>10.296578</td>\n",
              "      <td>459.431151</td>\n",
              "      <td>2.736525</td>\n",
              "      <td>-0.98</td>\n",
              "      <td>-0.95</td>\n",
              "      <td>-1.019234</td>\n",
              "    </tr>\n",
              "    <tr>\n",
              "      <th>3</th>\n",
              "      <td>normal</td>\n",
              "      <td>10.553064</td>\n",
              "      <td>457.141002</td>\n",
              "      <td>5.624983</td>\n",
              "      <td>-0.95</td>\n",
              "      <td>-0.95</td>\n",
              "      <td>-0.904427</td>\n",
              "    </tr>\n",
              "    <tr>\n",
              "      <th>4</th>\n",
              "      <td>normal</td>\n",
              "      <td>9.880487</td>\n",
              "      <td>460.601899</td>\n",
              "      <td>1.843793</td>\n",
              "      <td>-1.02</td>\n",
              "      <td>-0.95</td>\n",
              "      <td>-1.054718</td>\n",
              "    </tr>\n",
              "  </tbody>\n",
              "</table>\n",
              "</div>\n",
              "      <button class=\"colab-df-convert\" onclick=\"convertToInteractive('df-2063a611-e426-44a0-8486-07694a780273')\"\n",
              "              title=\"Convert this dataframe to an interactive table.\"\n",
              "              style=\"display:none;\">\n",
              "        \n",
              "  <svg xmlns=\"http://www.w3.org/2000/svg\" height=\"24px\"viewBox=\"0 0 24 24\"\n",
              "       width=\"24px\">\n",
              "    <path d=\"M0 0h24v24H0V0z\" fill=\"none\"/>\n",
              "    <path d=\"M18.56 5.44l.94 2.06.94-2.06 2.06-.94-2.06-.94-.94-2.06-.94 2.06-2.06.94zm-11 1L8.5 8.5l.94-2.06 2.06-.94-2.06-.94L8.5 2.5l-.94 2.06-2.06.94zm10 10l.94 2.06.94-2.06 2.06-.94-2.06-.94-.94-2.06-.94 2.06-2.06.94z\"/><path d=\"M17.41 7.96l-1.37-1.37c-.4-.4-.92-.59-1.43-.59-.52 0-1.04.2-1.43.59L10.3 9.45l-7.72 7.72c-.78.78-.78 2.05 0 2.83L4 21.41c.39.39.9.59 1.41.59.51 0 1.02-.2 1.41-.59l7.78-7.78 2.81-2.81c.8-.78.8-2.07 0-2.86zM5.41 20L4 18.59l7.72-7.72 1.47 1.35L5.41 20z\"/>\n",
              "  </svg>\n",
              "      </button>\n",
              "      \n",
              "  <style>\n",
              "    .colab-df-container {\n",
              "      display:flex;\n",
              "      flex-wrap:wrap;\n",
              "      gap: 12px;\n",
              "    }\n",
              "\n",
              "    .colab-df-convert {\n",
              "      background-color: #E8F0FE;\n",
              "      border: none;\n",
              "      border-radius: 50%;\n",
              "      cursor: pointer;\n",
              "      display: none;\n",
              "      fill: #1967D2;\n",
              "      height: 32px;\n",
              "      padding: 0 0 0 0;\n",
              "      width: 32px;\n",
              "    }\n",
              "\n",
              "    .colab-df-convert:hover {\n",
              "      background-color: #E2EBFA;\n",
              "      box-shadow: 0px 1px 2px rgba(60, 64, 67, 0.3), 0px 1px 3px 1px rgba(60, 64, 67, 0.15);\n",
              "      fill: #174EA6;\n",
              "    }\n",
              "\n",
              "    [theme=dark] .colab-df-convert {\n",
              "      background-color: #3B4455;\n",
              "      fill: #D2E3FC;\n",
              "    }\n",
              "\n",
              "    [theme=dark] .colab-df-convert:hover {\n",
              "      background-color: #434B5C;\n",
              "      box-shadow: 0px 1px 3px 1px rgba(0, 0, 0, 0.15);\n",
              "      filter: drop-shadow(0px 1px 2px rgba(0, 0, 0, 0.3));\n",
              "      fill: #FFFFFF;\n",
              "    }\n",
              "  </style>\n",
              "\n",
              "      <script>\n",
              "        const buttonEl =\n",
              "          document.querySelector('#df-2063a611-e426-44a0-8486-07694a780273 button.colab-df-convert');\n",
              "        buttonEl.style.display =\n",
              "          google.colab.kernel.accessAllowed ? 'block' : 'none';\n",
              "\n",
              "        async function convertToInteractive(key) {\n",
              "          const element = document.querySelector('#df-2063a611-e426-44a0-8486-07694a780273');\n",
              "          const dataTable =\n",
              "            await google.colab.kernel.invokeFunction('convertToInteractive',\n",
              "                                                     [key], {});\n",
              "          if (!dataTable) return;\n",
              "\n",
              "          const docLinkHtml = 'Like what you see? Visit the ' +\n",
              "            '<a target=\"_blank\" href=https://colab.research.google.com/notebooks/data_table.ipynb>data table notebook</a>'\n",
              "            + ' to learn more about interactive tables.';\n",
              "          element.innerHTML = '';\n",
              "          dataTable['output_type'] = 'display_data';\n",
              "          await google.colab.output.renderOutput(dataTable, element);\n",
              "          const docLink = document.createElement('div');\n",
              "          docLink.innerHTML = docLinkHtml;\n",
              "          element.appendChild(docLink);\n",
              "        }\n",
              "      </script>\n",
              "    </div>\n",
              "  </div>\n",
              "  "
            ]
          },
          "metadata": {},
          "execution_count": 142
        }
      ]
    },
    {
      "cell_type": "markdown",
      "source": [
        "Question 2 - c)\n",
        "standardized temperature"
      ],
      "metadata": {
        "id": "zezJ7FJHMyzz"
      }
    },
    {
      "cell_type": "code",
      "source": [
        "csv_data['standardized_temperature'] = ((csv_data['temperature'] - mean_temperature )/ std_temperature).round(2)\n",
        "csv_data.head()"
      ],
      "metadata": {
        "colab": {
          "base_uri": "https://localhost:8080/",
          "height": 250
        },
        "id": "U56tdBgpMyi_",
        "outputId": "bc912d98-baf8-455d-bd6b-408efde4ae6c"
      },
      "execution_count": 143,
      "outputs": [
        {
          "output_type": "execute_result",
          "data": {
            "text/plain": [
              "  condition    voltage     current  temperature  standardized_voltage  \\\n",
              "0    normal  13.036111  458.460370     6.879090                 -0.68   \n",
              "1    normal  11.135509  458.156781     6.394905                 -0.88   \n",
              "2    normal  10.296578  459.431151     2.736525                 -0.98   \n",
              "3    normal  10.553064  457.141002     5.624983                 -0.95   \n",
              "4    normal   9.880487  460.601899     1.843793                 -1.02   \n",
              "\n",
              "   standardized_current  standardized_temperature  \n",
              "0                 -0.95                     -0.85  \n",
              "1                 -0.95                     -0.87  \n",
              "2                 -0.95                     -1.02  \n",
              "3                 -0.95                     -0.90  \n",
              "4                 -0.95                     -1.05  "
            ],
            "text/html": [
              "\n",
              "  <div id=\"df-da1acd10-ca0a-414a-a39e-cbc9c8df22ea\">\n",
              "    <div class=\"colab-df-container\">\n",
              "      <div>\n",
              "<style scoped>\n",
              "    .dataframe tbody tr th:only-of-type {\n",
              "        vertical-align: middle;\n",
              "    }\n",
              "\n",
              "    .dataframe tbody tr th {\n",
              "        vertical-align: top;\n",
              "    }\n",
              "\n",
              "    .dataframe thead th {\n",
              "        text-align: right;\n",
              "    }\n",
              "</style>\n",
              "<table border=\"1\" class=\"dataframe\">\n",
              "  <thead>\n",
              "    <tr style=\"text-align: right;\">\n",
              "      <th></th>\n",
              "      <th>condition</th>\n",
              "      <th>voltage</th>\n",
              "      <th>current</th>\n",
              "      <th>temperature</th>\n",
              "      <th>standardized_voltage</th>\n",
              "      <th>standardized_current</th>\n",
              "      <th>standardized_temperature</th>\n",
              "    </tr>\n",
              "  </thead>\n",
              "  <tbody>\n",
              "    <tr>\n",
              "      <th>0</th>\n",
              "      <td>normal</td>\n",
              "      <td>13.036111</td>\n",
              "      <td>458.460370</td>\n",
              "      <td>6.879090</td>\n",
              "      <td>-0.68</td>\n",
              "      <td>-0.95</td>\n",
              "      <td>-0.85</td>\n",
              "    </tr>\n",
              "    <tr>\n",
              "      <th>1</th>\n",
              "      <td>normal</td>\n",
              "      <td>11.135509</td>\n",
              "      <td>458.156781</td>\n",
              "      <td>6.394905</td>\n",
              "      <td>-0.88</td>\n",
              "      <td>-0.95</td>\n",
              "      <td>-0.87</td>\n",
              "    </tr>\n",
              "    <tr>\n",
              "      <th>2</th>\n",
              "      <td>normal</td>\n",
              "      <td>10.296578</td>\n",
              "      <td>459.431151</td>\n",
              "      <td>2.736525</td>\n",
              "      <td>-0.98</td>\n",
              "      <td>-0.95</td>\n",
              "      <td>-1.02</td>\n",
              "    </tr>\n",
              "    <tr>\n",
              "      <th>3</th>\n",
              "      <td>normal</td>\n",
              "      <td>10.553064</td>\n",
              "      <td>457.141002</td>\n",
              "      <td>5.624983</td>\n",
              "      <td>-0.95</td>\n",
              "      <td>-0.95</td>\n",
              "      <td>-0.90</td>\n",
              "    </tr>\n",
              "    <tr>\n",
              "      <th>4</th>\n",
              "      <td>normal</td>\n",
              "      <td>9.880487</td>\n",
              "      <td>460.601899</td>\n",
              "      <td>1.843793</td>\n",
              "      <td>-1.02</td>\n",
              "      <td>-0.95</td>\n",
              "      <td>-1.05</td>\n",
              "    </tr>\n",
              "  </tbody>\n",
              "</table>\n",
              "</div>\n",
              "      <button class=\"colab-df-convert\" onclick=\"convertToInteractive('df-da1acd10-ca0a-414a-a39e-cbc9c8df22ea')\"\n",
              "              title=\"Convert this dataframe to an interactive table.\"\n",
              "              style=\"display:none;\">\n",
              "        \n",
              "  <svg xmlns=\"http://www.w3.org/2000/svg\" height=\"24px\"viewBox=\"0 0 24 24\"\n",
              "       width=\"24px\">\n",
              "    <path d=\"M0 0h24v24H0V0z\" fill=\"none\"/>\n",
              "    <path d=\"M18.56 5.44l.94 2.06.94-2.06 2.06-.94-2.06-.94-.94-2.06-.94 2.06-2.06.94zm-11 1L8.5 8.5l.94-2.06 2.06-.94-2.06-.94L8.5 2.5l-.94 2.06-2.06.94zm10 10l.94 2.06.94-2.06 2.06-.94-2.06-.94-.94-2.06-.94 2.06-2.06.94z\"/><path d=\"M17.41 7.96l-1.37-1.37c-.4-.4-.92-.59-1.43-.59-.52 0-1.04.2-1.43.59L10.3 9.45l-7.72 7.72c-.78.78-.78 2.05 0 2.83L4 21.41c.39.39.9.59 1.41.59.51 0 1.02-.2 1.41-.59l7.78-7.78 2.81-2.81c.8-.78.8-2.07 0-2.86zM5.41 20L4 18.59l7.72-7.72 1.47 1.35L5.41 20z\"/>\n",
              "  </svg>\n",
              "      </button>\n",
              "      \n",
              "  <style>\n",
              "    .colab-df-container {\n",
              "      display:flex;\n",
              "      flex-wrap:wrap;\n",
              "      gap: 12px;\n",
              "    }\n",
              "\n",
              "    .colab-df-convert {\n",
              "      background-color: #E8F0FE;\n",
              "      border: none;\n",
              "      border-radius: 50%;\n",
              "      cursor: pointer;\n",
              "      display: none;\n",
              "      fill: #1967D2;\n",
              "      height: 32px;\n",
              "      padding: 0 0 0 0;\n",
              "      width: 32px;\n",
              "    }\n",
              "\n",
              "    .colab-df-convert:hover {\n",
              "      background-color: #E2EBFA;\n",
              "      box-shadow: 0px 1px 2px rgba(60, 64, 67, 0.3), 0px 1px 3px 1px rgba(60, 64, 67, 0.15);\n",
              "      fill: #174EA6;\n",
              "    }\n",
              "\n",
              "    [theme=dark] .colab-df-convert {\n",
              "      background-color: #3B4455;\n",
              "      fill: #D2E3FC;\n",
              "    }\n",
              "\n",
              "    [theme=dark] .colab-df-convert:hover {\n",
              "      background-color: #434B5C;\n",
              "      box-shadow: 0px 1px 3px 1px rgba(0, 0, 0, 0.15);\n",
              "      filter: drop-shadow(0px 1px 2px rgba(0, 0, 0, 0.3));\n",
              "      fill: #FFFFFF;\n",
              "    }\n",
              "  </style>\n",
              "\n",
              "      <script>\n",
              "        const buttonEl =\n",
              "          document.querySelector('#df-da1acd10-ca0a-414a-a39e-cbc9c8df22ea button.colab-df-convert');\n",
              "        buttonEl.style.display =\n",
              "          google.colab.kernel.accessAllowed ? 'block' : 'none';\n",
              "\n",
              "        async function convertToInteractive(key) {\n",
              "          const element = document.querySelector('#df-da1acd10-ca0a-414a-a39e-cbc9c8df22ea');\n",
              "          const dataTable =\n",
              "            await google.colab.kernel.invokeFunction('convertToInteractive',\n",
              "                                                     [key], {});\n",
              "          if (!dataTable) return;\n",
              "\n",
              "          const docLinkHtml = 'Like what you see? Visit the ' +\n",
              "            '<a target=\"_blank\" href=https://colab.research.google.com/notebooks/data_table.ipynb>data table notebook</a>'\n",
              "            + ' to learn more about interactive tables.';\n",
              "          element.innerHTML = '';\n",
              "          dataTable['output_type'] = 'display_data';\n",
              "          await google.colab.output.renderOutput(dataTable, element);\n",
              "          const docLink = document.createElement('div');\n",
              "          docLink.innerHTML = docLinkHtml;\n",
              "          element.appendChild(docLink);\n",
              "        }\n",
              "      </script>\n",
              "    </div>\n",
              "  </div>\n",
              "  "
            ]
          },
          "metadata": {},
          "execution_count": 143
        }
      ]
    },
    {
      "cell_type": "markdown",
      "source": [
        "Question 4"
      ],
      "metadata": {
        "id": "-1MjmITfPkxV"
      }
    },
    {
      "cell_type": "code",
      "source": [
        "from math import sqrt\n",
        "# define student number \n",
        "a = 6\n",
        "b = 4\n",
        "c = 4\n",
        "d = 4\n",
        "\n",
        "w1_1stpart = 1/(sqrt((19+c-a)**2 + (a)**2 + (43 + d - b)**2))\n",
        "\n",
        "matrix1 = [(a-c-19), (a*(-1)**b), (b-d-43)]\n",
        "matrix1\n",
        "\n",
        "\n",
        "w1 = np.dot(w1_1stpart,matrix1)\n",
        "w1.round(decimals=2)\n",
        "\n",
        "bias = 1 / sqrt(2210+a**2)\n",
        "b1 = round(bias,2)\n",
        "\n",
        "\n",
        "print('w1', w1,\n",
        "      'bias', bias)"
      ],
      "metadata": {
        "colab": {
          "base_uri": "https://localhost:8080/"
        },
        "id": "Wsx4FVIuPmID",
        "outputId": "1aebca78-e743-42a5-894f-058df5855bdc"
      },
      "execution_count": 123,
      "outputs": [
        {
          "output_type": "stream",
          "name": "stdout",
          "text": [
            "w1 [-0.36460209  0.12868309 -0.92222881] bias 0.021100615513931942\n"
          ]
        }
      ]
    },
    {
      "cell_type": "markdown",
      "source": [
        "Question 4 - b) Calculate lenght vector |w1|"
      ],
      "metadata": {
        "id": "jp-Y6Rs5Z6yt"
      }
    },
    {
      "cell_type": "code",
      "source": [
        "# lenght vector |w1|\n",
        "\n",
        "# mag = np.sqrt(w1.dot(w1))\n",
        "# mag\n",
        "\n",
        "lenght_vector_w1 = np.linalg.norm(w1)\n",
        "lenght_vector_w1\n",
        "\n"
      ],
      "metadata": {
        "colab": {
          "base_uri": "https://localhost:8080/"
        },
        "id": "XIUaKUWQPphH",
        "outputId": "e04a30df-23fb-4721-db60-d2397bc35259"
      },
      "execution_count": 130,
      "outputs": [
        {
          "output_type": "stream",
          "name": "stdout",
          "text": [
            "1.0\n"
          ]
        }
      ]
    },
    {
      "cell_type": "markdown",
      "source": [
        "Question 4- c) calculate result of v*w + B"
      ],
      "metadata": {
        "id": "YuQ2r28DaECT"
      }
    },
    {
      "cell_type": "code",
      "source": [
        "csv_data.head()"
      ],
      "metadata": {
        "colab": {
          "base_uri": "https://localhost:8080/",
          "height": 250
        },
        "id": "XfyrauCUaK7J",
        "outputId": "d9e002a5-c1ca-4157-e283-4a1b78e83197"
      },
      "execution_count": 144,
      "outputs": [
        {
          "output_type": "execute_result",
          "data": {
            "text/plain": [
              "  condition    voltage     current  temperature  standardized_voltage  \\\n",
              "0    normal  13.036111  458.460370     6.879090                 -0.68   \n",
              "1    normal  11.135509  458.156781     6.394905                 -0.88   \n",
              "2    normal  10.296578  459.431151     2.736525                 -0.98   \n",
              "3    normal  10.553064  457.141002     5.624983                 -0.95   \n",
              "4    normal   9.880487  460.601899     1.843793                 -1.02   \n",
              "\n",
              "   standardized_current  standardized_temperature  \n",
              "0                 -0.95                     -0.85  \n",
              "1                 -0.95                     -0.87  \n",
              "2                 -0.95                     -1.02  \n",
              "3                 -0.95                     -0.90  \n",
              "4                 -0.95                     -1.05  "
            ],
            "text/html": [
              "\n",
              "  <div id=\"df-ae3e9399-04cb-411c-a4a7-fd09a3d7fe36\">\n",
              "    <div class=\"colab-df-container\">\n",
              "      <div>\n",
              "<style scoped>\n",
              "    .dataframe tbody tr th:only-of-type {\n",
              "        vertical-align: middle;\n",
              "    }\n",
              "\n",
              "    .dataframe tbody tr th {\n",
              "        vertical-align: top;\n",
              "    }\n",
              "\n",
              "    .dataframe thead th {\n",
              "        text-align: right;\n",
              "    }\n",
              "</style>\n",
              "<table border=\"1\" class=\"dataframe\">\n",
              "  <thead>\n",
              "    <tr style=\"text-align: right;\">\n",
              "      <th></th>\n",
              "      <th>condition</th>\n",
              "      <th>voltage</th>\n",
              "      <th>current</th>\n",
              "      <th>temperature</th>\n",
              "      <th>standardized_voltage</th>\n",
              "      <th>standardized_current</th>\n",
              "      <th>standardized_temperature</th>\n",
              "    </tr>\n",
              "  </thead>\n",
              "  <tbody>\n",
              "    <tr>\n",
              "      <th>0</th>\n",
              "      <td>normal</td>\n",
              "      <td>13.036111</td>\n",
              "      <td>458.460370</td>\n",
              "      <td>6.879090</td>\n",
              "      <td>-0.68</td>\n",
              "      <td>-0.95</td>\n",
              "      <td>-0.85</td>\n",
              "    </tr>\n",
              "    <tr>\n",
              "      <th>1</th>\n",
              "      <td>normal</td>\n",
              "      <td>11.135509</td>\n",
              "      <td>458.156781</td>\n",
              "      <td>6.394905</td>\n",
              "      <td>-0.88</td>\n",
              "      <td>-0.95</td>\n",
              "      <td>-0.87</td>\n",
              "    </tr>\n",
              "    <tr>\n",
              "      <th>2</th>\n",
              "      <td>normal</td>\n",
              "      <td>10.296578</td>\n",
              "      <td>459.431151</td>\n",
              "      <td>2.736525</td>\n",
              "      <td>-0.98</td>\n",
              "      <td>-0.95</td>\n",
              "      <td>-1.02</td>\n",
              "    </tr>\n",
              "    <tr>\n",
              "      <th>3</th>\n",
              "      <td>normal</td>\n",
              "      <td>10.553064</td>\n",
              "      <td>457.141002</td>\n",
              "      <td>5.624983</td>\n",
              "      <td>-0.95</td>\n",
              "      <td>-0.95</td>\n",
              "      <td>-0.90</td>\n",
              "    </tr>\n",
              "    <tr>\n",
              "      <th>4</th>\n",
              "      <td>normal</td>\n",
              "      <td>9.880487</td>\n",
              "      <td>460.601899</td>\n",
              "      <td>1.843793</td>\n",
              "      <td>-1.02</td>\n",
              "      <td>-0.95</td>\n",
              "      <td>-1.05</td>\n",
              "    </tr>\n",
              "  </tbody>\n",
              "</table>\n",
              "</div>\n",
              "      <button class=\"colab-df-convert\" onclick=\"convertToInteractive('df-ae3e9399-04cb-411c-a4a7-fd09a3d7fe36')\"\n",
              "              title=\"Convert this dataframe to an interactive table.\"\n",
              "              style=\"display:none;\">\n",
              "        \n",
              "  <svg xmlns=\"http://www.w3.org/2000/svg\" height=\"24px\"viewBox=\"0 0 24 24\"\n",
              "       width=\"24px\">\n",
              "    <path d=\"M0 0h24v24H0V0z\" fill=\"none\"/>\n",
              "    <path d=\"M18.56 5.44l.94 2.06.94-2.06 2.06-.94-2.06-.94-.94-2.06-.94 2.06-2.06.94zm-11 1L8.5 8.5l.94-2.06 2.06-.94-2.06-.94L8.5 2.5l-.94 2.06-2.06.94zm10 10l.94 2.06.94-2.06 2.06-.94-2.06-.94-.94-2.06-.94 2.06-2.06.94z\"/><path d=\"M17.41 7.96l-1.37-1.37c-.4-.4-.92-.59-1.43-.59-.52 0-1.04.2-1.43.59L10.3 9.45l-7.72 7.72c-.78.78-.78 2.05 0 2.83L4 21.41c.39.39.9.59 1.41.59.51 0 1.02-.2 1.41-.59l7.78-7.78 2.81-2.81c.8-.78.8-2.07 0-2.86zM5.41 20L4 18.59l7.72-7.72 1.47 1.35L5.41 20z\"/>\n",
              "  </svg>\n",
              "      </button>\n",
              "      \n",
              "  <style>\n",
              "    .colab-df-container {\n",
              "      display:flex;\n",
              "      flex-wrap:wrap;\n",
              "      gap: 12px;\n",
              "    }\n",
              "\n",
              "    .colab-df-convert {\n",
              "      background-color: #E8F0FE;\n",
              "      border: none;\n",
              "      border-radius: 50%;\n",
              "      cursor: pointer;\n",
              "      display: none;\n",
              "      fill: #1967D2;\n",
              "      height: 32px;\n",
              "      padding: 0 0 0 0;\n",
              "      width: 32px;\n",
              "    }\n",
              "\n",
              "    .colab-df-convert:hover {\n",
              "      background-color: #E2EBFA;\n",
              "      box-shadow: 0px 1px 2px rgba(60, 64, 67, 0.3), 0px 1px 3px 1px rgba(60, 64, 67, 0.15);\n",
              "      fill: #174EA6;\n",
              "    }\n",
              "\n",
              "    [theme=dark] .colab-df-convert {\n",
              "      background-color: #3B4455;\n",
              "      fill: #D2E3FC;\n",
              "    }\n",
              "\n",
              "    [theme=dark] .colab-df-convert:hover {\n",
              "      background-color: #434B5C;\n",
              "      box-shadow: 0px 1px 3px 1px rgba(0, 0, 0, 0.15);\n",
              "      filter: drop-shadow(0px 1px 2px rgba(0, 0, 0, 0.3));\n",
              "      fill: #FFFFFF;\n",
              "    }\n",
              "  </style>\n",
              "\n",
              "      <script>\n",
              "        const buttonEl =\n",
              "          document.querySelector('#df-ae3e9399-04cb-411c-a4a7-fd09a3d7fe36 button.colab-df-convert');\n",
              "        buttonEl.style.display =\n",
              "          google.colab.kernel.accessAllowed ? 'block' : 'none';\n",
              "\n",
              "        async function convertToInteractive(key) {\n",
              "          const element = document.querySelector('#df-ae3e9399-04cb-411c-a4a7-fd09a3d7fe36');\n",
              "          const dataTable =\n",
              "            await google.colab.kernel.invokeFunction('convertToInteractive',\n",
              "                                                     [key], {});\n",
              "          if (!dataTable) return;\n",
              "\n",
              "          const docLinkHtml = 'Like what you see? Visit the ' +\n",
              "            '<a target=\"_blank\" href=https://colab.research.google.com/notebooks/data_table.ipynb>data table notebook</a>'\n",
              "            + ' to learn more about interactive tables.';\n",
              "          element.innerHTML = '';\n",
              "          dataTable['output_type'] = 'display_data';\n",
              "          await google.colab.output.renderOutput(dataTable, element);\n",
              "          const docLink = document.createElement('div');\n",
              "          docLink.innerHTML = docLinkHtml;\n",
              "          element.appendChild(docLink);\n",
              "        }\n",
              "      </script>\n",
              "    </div>\n",
              "  </div>\n",
              "  "
            ]
          },
          "metadata": {},
          "execution_count": 144
        }
      ]
    },
    {
      "cell_type": "code",
      "source": [
        "#define n vectors\n",
        "n1 = [(csv_data['standardized_voltage'][0]),\n",
        "      (csv_data['standardized_current'][0]),\n",
        "      (csv_data['standardized_temperature'][0])]\n",
        "\n",
        "n2= [(csv_data['standardized_voltage'][1]),\n",
        "      (csv_data['standardized_current'][1]),\n",
        "      (csv_data['standardized_temperature'][1])]\n",
        "\n",
        "n3= [(csv_data['standardized_voltage'][2]),\n",
        "      (csv_data['standardized_current'][2]),\n",
        "      (csv_data['standardized_temperature'][2])]\n",
        "  \n",
        "n4 = [(csv_data['standardized_voltage'][3]),\n",
        "      (csv_data['standardized_current'][3]),\n",
        "      (csv_data['standardized_temperature'][3])]\n",
        "\n",
        "n5 = [(csv_data['standardized_voltage'][4]),\n",
        "      (csv_data['standardized_current'][4]),\n",
        "      (csv_data['standardized_temperature'][4])]\n",
        "\n",
        "print(n1)\n",
        "print(n2)\n",
        "print(n3)\n",
        "print(n4)\n",
        "print(n5)"
      ],
      "metadata": {
        "colab": {
          "base_uri": "https://localhost:8080/"
        },
        "id": "ugtaBpq8aVRI",
        "outputId": "ba98a9ed-24ac-48ca-c32c-85e554507f88"
      },
      "execution_count": 148,
      "outputs": [
        {
          "output_type": "stream",
          "name": "stdout",
          "text": [
            "[-0.68, -0.95, -0.85]\n",
            "[-0.88, -0.95, -0.87]\n",
            "[-0.98, -0.95, -1.02]\n",
            "[-0.95, -0.95, -0.9]\n",
            "[-1.02, -0.95, -1.05]\n"
          ]
        }
      ]
    },
    {
      "cell_type": "code",
      "source": [
        "#define f vectors\n",
        "f1 = [(csv_data['standardized_voltage'][5]),\n",
        "      (csv_data['standardized_current'][5]),\n",
        "      (csv_data['standardized_temperature'][5])]\n",
        "\n",
        "f2= [(csv_data['standardized_voltage'][6]),\n",
        "      (csv_data['standardized_current'][6]),\n",
        "      (csv_data['standardized_temperature'][6])]\n",
        "\n",
        "f3= [(csv_data['standardized_voltage'][7]),\n",
        "      (csv_data['standardized_current'][7]),\n",
        "      (csv_data['standardized_temperature'][7])]\n",
        "  \n",
        "f4 = [(csv_data['standardized_voltage'][8]),\n",
        "      (csv_data['standardized_current'][8]),\n",
        "      (csv_data['standardized_temperature'][8])]\n",
        "\n",
        "f5 = [(csv_data['standardized_voltage'][8]),\n",
        "      (csv_data['standardized_current'][8]),\n",
        "      (csv_data['standardized_temperature'][8])]\n",
        "\n",
        "print(f1)\n",
        "print(f2)\n",
        "print(f3)\n",
        "print(f4)\n",
        "print(f5)"
      ],
      "metadata": {
        "colab": {
          "base_uri": "https://localhost:8080/"
        },
        "id": "NV5geLg1bnQu",
        "outputId": "f5b34156-230b-4b5d-9b7b-ee5fc57db5b9"
      },
      "execution_count": 149,
      "outputs": [
        {
          "output_type": "stream",
          "name": "stdout",
          "text": [
            "[0.9, 0.95, 1.12]\n",
            "[0.99, 0.95, 1.07]\n",
            "[1.59, 0.94, 0.81]\n",
            "[0.6, 0.95, 0.74]\n",
            "[0.6, 0.95, 0.74]\n"
          ]
        }
      ]
    },
    {
      "cell_type": "code",
      "source": [
        "compute_n1 = np.dot(n1, w1)+ b1\n",
        "compute_n1.round(decimals=2)\n",
        "\n",
        "compute_n2 = np.dot(n2, w1)+ b1\n",
        "compute_n2.round(decimals=2)\n",
        "\n",
        "compute_n3 = np.dot(n3, w1)+ b1\n",
        "compute_n3.round(decimals=2)"
      ],
      "metadata": {
        "colab": {
          "base_uri": "https://localhost:8080/"
        },
        "id": "8HKeFhlSb_Ko",
        "outputId": "3cd5af8e-6772-4e36-d22d-eea50559ad73"
      },
      "execution_count": 153,
      "outputs": [
        {
          "output_type": "execute_result",
          "data": {
            "text/plain": [
              "1.2"
            ]
          },
          "metadata": {},
          "execution_count": 153
        }
      ]
    },
    {
      "cell_type": "markdown",
      "source": [
        "Question 4- d) Calculate Loss Function \n",
        "L = 5 "
      ],
      "metadata": {
        "id": "2wf1b3lS9EIE"
      }
    },
    {
      "cell_type": "markdown",
      "source": [
        "Question 4 -e) caculate accuracy"
      ],
      "metadata": {
        "id": "fSjQKm_S9NIE"
      }
    },
    {
      "cell_type": "code",
      "source": [
        "L = 5 \n",
        "A = (10-L)/10\n",
        "A"
      ],
      "metadata": {
        "colab": {
          "base_uri": "https://localhost:8080/"
        },
        "id": "rxGPA-1G9Cd2",
        "outputId": "04080f1b-7d41-46fd-a32c-52c26526782b"
      },
      "execution_count": 154,
      "outputs": [
        {
          "output_type": "execute_result",
          "data": {
            "text/plain": [
              "0.5"
            ]
          },
          "metadata": {},
          "execution_count": 154
        }
      ]
    },
    {
      "cell_type": "markdown",
      "source": [
        "Question 5 "
      ],
      "metadata": {
        "id": "a5tJ_yeS9d1n"
      }
    },
    {
      "cell_type": "code",
      "source": [
        "Me1 = [(-1),(a*10**(-2)),(0)]\n",
        "Me2 = [(b*10**(-2)),(1),(c*10**(-2))]\n",
        "Me3 = [(0),(d*10**(-2)),(-1)]\n",
        "\n",
        "print(Me1)\n",
        "print(Me2)\n",
        "print(Me3)"
      ],
      "metadata": {
        "colab": {
          "base_uri": "https://localhost:8080/"
        },
        "id": "nKyR6YKE9hS8",
        "outputId": "01256785-6f4f-4b23-90ab-08255571d8fc"
      },
      "execution_count": 156,
      "outputs": [
        {
          "output_type": "stream",
          "name": "stdout",
          "text": [
            "[-1, 0.06, 0]\n",
            "[0.04, 1, 0.04]\n",
            "[0, 0.04, -1]\n"
          ]
        }
      ]
    }
  ]
}