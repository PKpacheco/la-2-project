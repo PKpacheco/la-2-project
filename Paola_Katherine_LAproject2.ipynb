{
  "nbformat": 4,
  "nbformat_minor": 0,
  "metadata": {
    "colab": {
      "provenance": [],
      "mount_file_id": "1e8hq8IuKCFJ8Hldptj91y8w5q4T7kCLx",
      "authorship_tag": "ABX9TyNw7n/a7z2sSRr0QejrkHPA",
      "include_colab_link": true
    },
    "kernelspec": {
      "name": "python3",
      "display_name": "Python 3"
    },
    "language_info": {
      "name": "python"
    }
  },
  "cells": [
    {
      "cell_type": "markdown",
      "metadata": {
        "id": "view-in-github",
        "colab_type": "text"
      },
      "source": [
        "<a href=\"https://colab.research.google.com/github/PKpacheco/la-2-project/blob/main/Paola_Katherine_LAproject2.ipynb\" target=\"_parent\"><img src=\"https://colab.research.google.com/assets/colab-badge.svg\" alt=\"Open In Colab\"/></a>"
      ]
    },
    {
      "cell_type": "code",
      "execution_count": 2,
      "metadata": {
        "id": "eYtcO9yuXhOv"
      },
      "outputs": [],
      "source": [
        "import pandas as pd\n",
        "import numpy as np\n",
        "import plotly.express as px"
      ]
    },
    {
      "cell_type": "code",
      "source": [
        "csv_file_drive = \"/content/drive/MyDrive/rrc/algebra/excel_la2.csv\"\n",
        "csv_data = pd.read_csv(csv_file_drive, encoding = \"utf-8\")\n",
        "csv_data"
      ],
      "metadata": {
        "colab": {
          "base_uri": "https://localhost:8080/",
          "height": 363
        },
        "id": "QEH9kkJINOQs",
        "outputId": "4fc6296f-32b7-4e21-b95f-5f123b217538"
      },
      "execution_count": 3,
      "outputs": [
        {
          "output_type": "execute_result",
          "data": {
            "text/plain": [
              "  condition    voltage      current  temperature\n",
              "0    normal  13.036111   458.460370     6.879090\n",
              "1    normal  11.135509   458.156781     6.394905\n",
              "2    normal  10.296578   459.431151     2.736525\n",
              "3    normal  10.553064   457.141002     5.624983\n",
              "4    normal   9.880487   460.601899     1.843793\n",
              "5    failed  27.614720  4610.433851    56.440862\n",
              "6    failed  28.455265  4597.874476    55.236113\n",
              "7    failed  33.977884  4591.018036    48.824006\n",
              "8    failed  24.817434  4615.117584    46.895674\n",
              "9    failed  23.380610  4592.524455    52.920179"
            ],
            "text/html": [
              "\n",
              "  <div id=\"df-d12f16bd-8f52-45f9-b2c0-5e156aee409a\">\n",
              "    <div class=\"colab-df-container\">\n",
              "      <div>\n",
              "<style scoped>\n",
              "    .dataframe tbody tr th:only-of-type {\n",
              "        vertical-align: middle;\n",
              "    }\n",
              "\n",
              "    .dataframe tbody tr th {\n",
              "        vertical-align: top;\n",
              "    }\n",
              "\n",
              "    .dataframe thead th {\n",
              "        text-align: right;\n",
              "    }\n",
              "</style>\n",
              "<table border=\"1\" class=\"dataframe\">\n",
              "  <thead>\n",
              "    <tr style=\"text-align: right;\">\n",
              "      <th></th>\n",
              "      <th>condition</th>\n",
              "      <th>voltage</th>\n",
              "      <th>current</th>\n",
              "      <th>temperature</th>\n",
              "    </tr>\n",
              "  </thead>\n",
              "  <tbody>\n",
              "    <tr>\n",
              "      <th>0</th>\n",
              "      <td>normal</td>\n",
              "      <td>13.036111</td>\n",
              "      <td>458.460370</td>\n",
              "      <td>6.879090</td>\n",
              "    </tr>\n",
              "    <tr>\n",
              "      <th>1</th>\n",
              "      <td>normal</td>\n",
              "      <td>11.135509</td>\n",
              "      <td>458.156781</td>\n",
              "      <td>6.394905</td>\n",
              "    </tr>\n",
              "    <tr>\n",
              "      <th>2</th>\n",
              "      <td>normal</td>\n",
              "      <td>10.296578</td>\n",
              "      <td>459.431151</td>\n",
              "      <td>2.736525</td>\n",
              "    </tr>\n",
              "    <tr>\n",
              "      <th>3</th>\n",
              "      <td>normal</td>\n",
              "      <td>10.553064</td>\n",
              "      <td>457.141002</td>\n",
              "      <td>5.624983</td>\n",
              "    </tr>\n",
              "    <tr>\n",
              "      <th>4</th>\n",
              "      <td>normal</td>\n",
              "      <td>9.880487</td>\n",
              "      <td>460.601899</td>\n",
              "      <td>1.843793</td>\n",
              "    </tr>\n",
              "    <tr>\n",
              "      <th>5</th>\n",
              "      <td>failed</td>\n",
              "      <td>27.614720</td>\n",
              "      <td>4610.433851</td>\n",
              "      <td>56.440862</td>\n",
              "    </tr>\n",
              "    <tr>\n",
              "      <th>6</th>\n",
              "      <td>failed</td>\n",
              "      <td>28.455265</td>\n",
              "      <td>4597.874476</td>\n",
              "      <td>55.236113</td>\n",
              "    </tr>\n",
              "    <tr>\n",
              "      <th>7</th>\n",
              "      <td>failed</td>\n",
              "      <td>33.977884</td>\n",
              "      <td>4591.018036</td>\n",
              "      <td>48.824006</td>\n",
              "    </tr>\n",
              "    <tr>\n",
              "      <th>8</th>\n",
              "      <td>failed</td>\n",
              "      <td>24.817434</td>\n",
              "      <td>4615.117584</td>\n",
              "      <td>46.895674</td>\n",
              "    </tr>\n",
              "    <tr>\n",
              "      <th>9</th>\n",
              "      <td>failed</td>\n",
              "      <td>23.380610</td>\n",
              "      <td>4592.524455</td>\n",
              "      <td>52.920179</td>\n",
              "    </tr>\n",
              "  </tbody>\n",
              "</table>\n",
              "</div>\n",
              "      <button class=\"colab-df-convert\" onclick=\"convertToInteractive('df-d12f16bd-8f52-45f9-b2c0-5e156aee409a')\"\n",
              "              title=\"Convert this dataframe to an interactive table.\"\n",
              "              style=\"display:none;\">\n",
              "        \n",
              "  <svg xmlns=\"http://www.w3.org/2000/svg\" height=\"24px\"viewBox=\"0 0 24 24\"\n",
              "       width=\"24px\">\n",
              "    <path d=\"M0 0h24v24H0V0z\" fill=\"none\"/>\n",
              "    <path d=\"M18.56 5.44l.94 2.06.94-2.06 2.06-.94-2.06-.94-.94-2.06-.94 2.06-2.06.94zm-11 1L8.5 8.5l.94-2.06 2.06-.94-2.06-.94L8.5 2.5l-.94 2.06-2.06.94zm10 10l.94 2.06.94-2.06 2.06-.94-2.06-.94-.94-2.06-.94 2.06-2.06.94z\"/><path d=\"M17.41 7.96l-1.37-1.37c-.4-.4-.92-.59-1.43-.59-.52 0-1.04.2-1.43.59L10.3 9.45l-7.72 7.72c-.78.78-.78 2.05 0 2.83L4 21.41c.39.39.9.59 1.41.59.51 0 1.02-.2 1.41-.59l7.78-7.78 2.81-2.81c.8-.78.8-2.07 0-2.86zM5.41 20L4 18.59l7.72-7.72 1.47 1.35L5.41 20z\"/>\n",
              "  </svg>\n",
              "      </button>\n",
              "      \n",
              "  <style>\n",
              "    .colab-df-container {\n",
              "      display:flex;\n",
              "      flex-wrap:wrap;\n",
              "      gap: 12px;\n",
              "    }\n",
              "\n",
              "    .colab-df-convert {\n",
              "      background-color: #E8F0FE;\n",
              "      border: none;\n",
              "      border-radius: 50%;\n",
              "      cursor: pointer;\n",
              "      display: none;\n",
              "      fill: #1967D2;\n",
              "      height: 32px;\n",
              "      padding: 0 0 0 0;\n",
              "      width: 32px;\n",
              "    }\n",
              "\n",
              "    .colab-df-convert:hover {\n",
              "      background-color: #E2EBFA;\n",
              "      box-shadow: 0px 1px 2px rgba(60, 64, 67, 0.3), 0px 1px 3px 1px rgba(60, 64, 67, 0.15);\n",
              "      fill: #174EA6;\n",
              "    }\n",
              "\n",
              "    [theme=dark] .colab-df-convert {\n",
              "      background-color: #3B4455;\n",
              "      fill: #D2E3FC;\n",
              "    }\n",
              "\n",
              "    [theme=dark] .colab-df-convert:hover {\n",
              "      background-color: #434B5C;\n",
              "      box-shadow: 0px 1px 3px 1px rgba(0, 0, 0, 0.15);\n",
              "      filter: drop-shadow(0px 1px 2px rgba(0, 0, 0, 0.3));\n",
              "      fill: #FFFFFF;\n",
              "    }\n",
              "  </style>\n",
              "\n",
              "      <script>\n",
              "        const buttonEl =\n",
              "          document.querySelector('#df-d12f16bd-8f52-45f9-b2c0-5e156aee409a button.colab-df-convert');\n",
              "        buttonEl.style.display =\n",
              "          google.colab.kernel.accessAllowed ? 'block' : 'none';\n",
              "\n",
              "        async function convertToInteractive(key) {\n",
              "          const element = document.querySelector('#df-d12f16bd-8f52-45f9-b2c0-5e156aee409a');\n",
              "          const dataTable =\n",
              "            await google.colab.kernel.invokeFunction('convertToInteractive',\n",
              "                                                     [key], {});\n",
              "          if (!dataTable) return;\n",
              "\n",
              "          const docLinkHtml = 'Like what you see? Visit the ' +\n",
              "            '<a target=\"_blank\" href=https://colab.research.google.com/notebooks/data_table.ipynb>data table notebook</a>'\n",
              "            + ' to learn more about interactive tables.';\n",
              "          element.innerHTML = '';\n",
              "          dataTable['output_type'] = 'display_data';\n",
              "          await google.colab.output.renderOutput(dataTable, element);\n",
              "          const docLink = document.createElement('div');\n",
              "          docLink.innerHTML = docLinkHtml;\n",
              "          element.appendChild(docLink);\n",
              "        }\n",
              "      </script>\n",
              "    </div>\n",
              "  </div>\n",
              "  "
            ]
          },
          "metadata": {},
          "execution_count": 3
        }
      ]
    },
    {
      "cell_type": "code",
      "source": [
        "csv_data.info()"
      ],
      "metadata": {
        "colab": {
          "base_uri": "https://localhost:8080/"
        },
        "id": "1c2EGW8yIO3t",
        "outputId": "00e37b0a-5497-4813-831c-f178a605c639"
      },
      "execution_count": 4,
      "outputs": [
        {
          "output_type": "stream",
          "name": "stdout",
          "text": [
            "<class 'pandas.core.frame.DataFrame'>\n",
            "RangeIndex: 10 entries, 0 to 9\n",
            "Data columns (total 4 columns):\n",
            " #   Column       Non-Null Count  Dtype  \n",
            "---  ------       --------------  -----  \n",
            " 0   condition    10 non-null     object \n",
            " 1   voltage      10 non-null     float64\n",
            " 2   current      10 non-null     float64\n",
            " 3   temperature  10 non-null     float64\n",
            "dtypes: float64(3), object(1)\n",
            "memory usage: 448.0+ bytes\n"
          ]
        }
      ]
    },
    {
      "cell_type": "markdown",
      "source": [
        "#Question 1 - a)Calculate the mean "
      ],
      "metadata": {
        "id": "_Niz2suDJ6ml"
      }
    },
    {
      "cell_type": "code",
      "source": [
        "mean_voltage = csv_data['voltage'].mean().round(2)\n",
        "mean_current = csv_data['current'].mean().round(2)\n",
        "mean_temperature = csv_data['temperature'].mean().round(2)\n",
        "\n",
        "print('>>> mean_voltage = ', mean_voltage)\n",
        "print('>>> mean_current = ', mean_current)\n",
        "print('>>> mean_temperature =',mean_temperature)"
      ],
      "metadata": {
        "colab": {
          "base_uri": "https://localhost:8080/"
        },
        "id": "ueCE16JaItp6",
        "outputId": "84ec4a84-399b-44a2-aaf1-4e5f57c5cc03"
      },
      "execution_count": 110,
      "outputs": [
        {
          "output_type": "stream",
          "name": "stdout",
          "text": [
            ">>> mean_voltage =  19.31\n",
            ">>> mean_current =  2530.08\n",
            ">>> mean_temperature = 28.38\n"
          ]
        }
      ]
    },
    {
      "cell_type": "markdown",
      "source": [
        "# Question 1 - b)Calculate the std dev"
      ],
      "metadata": {
        "id": "uwBE5kL4KEBT"
      }
    },
    {
      "cell_type": "code",
      "source": [
        "std_voltage = csv_data['voltage'].std().round(2)\n",
        "std_current = csv_data['current'].std().round(2)\n",
        "std_temperature = csv_data['temperature'].std().round(2)\n",
        "\n",
        "print('>>> std_voltage =', std_voltage)\n",
        "print('>>> std_current =', std_current)\n",
        "print('>>> std_temperature =',std_temperature)"
      ],
      "metadata": {
        "colab": {
          "base_uri": "https://localhost:8080/"
        },
        "id": "7G7vYaXrKH1a",
        "outputId": "e3111775-1b20-48a5-eb51-a161bc5d6275"
      },
      "execution_count": 112,
      "outputs": [
        {
          "output_type": "stream",
          "name": "stdout",
          "text": [
            ">>> std_voltage = 9.24\n",
            ">>> std_current = 2183.37\n",
            ">>> std_temperature = 25.16\n"
          ]
        }
      ]
    },
    {
      "cell_type": "markdown",
      "source": [
        "#Question 2 - a)standardized voltage"
      ],
      "metadata": {
        "id": "f5jgPPRCLHXL"
      }
    },
    {
      "cell_type": "code",
      "source": [
        "csv_data['standardized_voltage'] = ((csv_data['voltage'] - mean_voltage )/ std_voltage).round(2)\n",
        "csv_data.head()"
      ],
      "metadata": {
        "colab": {
          "base_uri": "https://localhost:8080/",
          "height": 206
        },
        "id": "vKN4X-WpLQwF",
        "outputId": "1791d7e1-9c27-4d43-8377-15790b025093"
      },
      "execution_count": 8,
      "outputs": [
        {
          "output_type": "execute_result",
          "data": {
            "text/plain": [
              "  condition    voltage     current  temperature  standardized_voltage\n",
              "0    normal  13.036111  458.460370     6.879090                 -0.68\n",
              "1    normal  11.135509  458.156781     6.394905                 -0.88\n",
              "2    normal  10.296578  459.431151     2.736525                 -0.98\n",
              "3    normal  10.553064  457.141002     5.624983                 -0.95\n",
              "4    normal   9.880487  460.601899     1.843793                 -1.02"
            ],
            "text/html": [
              "\n",
              "  <div id=\"df-9adf4572-9e2b-4608-8325-81f92d1a1df7\">\n",
              "    <div class=\"colab-df-container\">\n",
              "      <div>\n",
              "<style scoped>\n",
              "    .dataframe tbody tr th:only-of-type {\n",
              "        vertical-align: middle;\n",
              "    }\n",
              "\n",
              "    .dataframe tbody tr th {\n",
              "        vertical-align: top;\n",
              "    }\n",
              "\n",
              "    .dataframe thead th {\n",
              "        text-align: right;\n",
              "    }\n",
              "</style>\n",
              "<table border=\"1\" class=\"dataframe\">\n",
              "  <thead>\n",
              "    <tr style=\"text-align: right;\">\n",
              "      <th></th>\n",
              "      <th>condition</th>\n",
              "      <th>voltage</th>\n",
              "      <th>current</th>\n",
              "      <th>temperature</th>\n",
              "      <th>standardized_voltage</th>\n",
              "    </tr>\n",
              "  </thead>\n",
              "  <tbody>\n",
              "    <tr>\n",
              "      <th>0</th>\n",
              "      <td>normal</td>\n",
              "      <td>13.036111</td>\n",
              "      <td>458.460370</td>\n",
              "      <td>6.879090</td>\n",
              "      <td>-0.68</td>\n",
              "    </tr>\n",
              "    <tr>\n",
              "      <th>1</th>\n",
              "      <td>normal</td>\n",
              "      <td>11.135509</td>\n",
              "      <td>458.156781</td>\n",
              "      <td>6.394905</td>\n",
              "      <td>-0.88</td>\n",
              "    </tr>\n",
              "    <tr>\n",
              "      <th>2</th>\n",
              "      <td>normal</td>\n",
              "      <td>10.296578</td>\n",
              "      <td>459.431151</td>\n",
              "      <td>2.736525</td>\n",
              "      <td>-0.98</td>\n",
              "    </tr>\n",
              "    <tr>\n",
              "      <th>3</th>\n",
              "      <td>normal</td>\n",
              "      <td>10.553064</td>\n",
              "      <td>457.141002</td>\n",
              "      <td>5.624983</td>\n",
              "      <td>-0.95</td>\n",
              "    </tr>\n",
              "    <tr>\n",
              "      <th>4</th>\n",
              "      <td>normal</td>\n",
              "      <td>9.880487</td>\n",
              "      <td>460.601899</td>\n",
              "      <td>1.843793</td>\n",
              "      <td>-1.02</td>\n",
              "    </tr>\n",
              "  </tbody>\n",
              "</table>\n",
              "</div>\n",
              "      <button class=\"colab-df-convert\" onclick=\"convertToInteractive('df-9adf4572-9e2b-4608-8325-81f92d1a1df7')\"\n",
              "              title=\"Convert this dataframe to an interactive table.\"\n",
              "              style=\"display:none;\">\n",
              "        \n",
              "  <svg xmlns=\"http://www.w3.org/2000/svg\" height=\"24px\"viewBox=\"0 0 24 24\"\n",
              "       width=\"24px\">\n",
              "    <path d=\"M0 0h24v24H0V0z\" fill=\"none\"/>\n",
              "    <path d=\"M18.56 5.44l.94 2.06.94-2.06 2.06-.94-2.06-.94-.94-2.06-.94 2.06-2.06.94zm-11 1L8.5 8.5l.94-2.06 2.06-.94-2.06-.94L8.5 2.5l-.94 2.06-2.06.94zm10 10l.94 2.06.94-2.06 2.06-.94-2.06-.94-.94-2.06-.94 2.06-2.06.94z\"/><path d=\"M17.41 7.96l-1.37-1.37c-.4-.4-.92-.59-1.43-.59-.52 0-1.04.2-1.43.59L10.3 9.45l-7.72 7.72c-.78.78-.78 2.05 0 2.83L4 21.41c.39.39.9.59 1.41.59.51 0 1.02-.2 1.41-.59l7.78-7.78 2.81-2.81c.8-.78.8-2.07 0-2.86zM5.41 20L4 18.59l7.72-7.72 1.47 1.35L5.41 20z\"/>\n",
              "  </svg>\n",
              "      </button>\n",
              "      \n",
              "  <style>\n",
              "    .colab-df-container {\n",
              "      display:flex;\n",
              "      flex-wrap:wrap;\n",
              "      gap: 12px;\n",
              "    }\n",
              "\n",
              "    .colab-df-convert {\n",
              "      background-color: #E8F0FE;\n",
              "      border: none;\n",
              "      border-radius: 50%;\n",
              "      cursor: pointer;\n",
              "      display: none;\n",
              "      fill: #1967D2;\n",
              "      height: 32px;\n",
              "      padding: 0 0 0 0;\n",
              "      width: 32px;\n",
              "    }\n",
              "\n",
              "    .colab-df-convert:hover {\n",
              "      background-color: #E2EBFA;\n",
              "      box-shadow: 0px 1px 2px rgba(60, 64, 67, 0.3), 0px 1px 3px 1px rgba(60, 64, 67, 0.15);\n",
              "      fill: #174EA6;\n",
              "    }\n",
              "\n",
              "    [theme=dark] .colab-df-convert {\n",
              "      background-color: #3B4455;\n",
              "      fill: #D2E3FC;\n",
              "    }\n",
              "\n",
              "    [theme=dark] .colab-df-convert:hover {\n",
              "      background-color: #434B5C;\n",
              "      box-shadow: 0px 1px 3px 1px rgba(0, 0, 0, 0.15);\n",
              "      filter: drop-shadow(0px 1px 2px rgba(0, 0, 0, 0.3));\n",
              "      fill: #FFFFFF;\n",
              "    }\n",
              "  </style>\n",
              "\n",
              "      <script>\n",
              "        const buttonEl =\n",
              "          document.querySelector('#df-9adf4572-9e2b-4608-8325-81f92d1a1df7 button.colab-df-convert');\n",
              "        buttonEl.style.display =\n",
              "          google.colab.kernel.accessAllowed ? 'block' : 'none';\n",
              "\n",
              "        async function convertToInteractive(key) {\n",
              "          const element = document.querySelector('#df-9adf4572-9e2b-4608-8325-81f92d1a1df7');\n",
              "          const dataTable =\n",
              "            await google.colab.kernel.invokeFunction('convertToInteractive',\n",
              "                                                     [key], {});\n",
              "          if (!dataTable) return;\n",
              "\n",
              "          const docLinkHtml = 'Like what you see? Visit the ' +\n",
              "            '<a target=\"_blank\" href=https://colab.research.google.com/notebooks/data_table.ipynb>data table notebook</a>'\n",
              "            + ' to learn more about interactive tables.';\n",
              "          element.innerHTML = '';\n",
              "          dataTable['output_type'] = 'display_data';\n",
              "          await google.colab.output.renderOutput(dataTable, element);\n",
              "          const docLink = document.createElement('div');\n",
              "          docLink.innerHTML = docLinkHtml;\n",
              "          element.appendChild(docLink);\n",
              "        }\n",
              "      </script>\n",
              "    </div>\n",
              "  </div>\n",
              "  "
            ]
          },
          "metadata": {},
          "execution_count": 8
        }
      ]
    },
    {
      "cell_type": "markdown",
      "source": [
        "#Question 2 - b)standardized current"
      ],
      "metadata": {
        "id": "zMHZf7DCMm7S"
      }
    },
    {
      "cell_type": "code",
      "source": [
        "csv_data['standardized_current'] = ((csv_data['current'] - mean_current )/ std_current).round(2)\n",
        "csv_data.head()"
      ],
      "metadata": {
        "colab": {
          "base_uri": "https://localhost:8080/",
          "height": 206
        },
        "id": "xmgKZIm_Msix",
        "outputId": "daee2cfa-bb3d-40a4-a595-da93fff6d433"
      },
      "execution_count": 9,
      "outputs": [
        {
          "output_type": "execute_result",
          "data": {
            "text/plain": [
              "  condition    voltage     current  temperature  standardized_voltage  \\\n",
              "0    normal  13.036111  458.460370     6.879090                 -0.68   \n",
              "1    normal  11.135509  458.156781     6.394905                 -0.88   \n",
              "2    normal  10.296578  459.431151     2.736525                 -0.98   \n",
              "3    normal  10.553064  457.141002     5.624983                 -0.95   \n",
              "4    normal   9.880487  460.601899     1.843793                 -1.02   \n",
              "\n",
              "   standardized_current  \n",
              "0                 -0.95  \n",
              "1                 -0.95  \n",
              "2                 -0.95  \n",
              "3                 -0.95  \n",
              "4                 -0.95  "
            ],
            "text/html": [
              "\n",
              "  <div id=\"df-b4bc718b-f89e-4e44-968d-f812b24b1986\">\n",
              "    <div class=\"colab-df-container\">\n",
              "      <div>\n",
              "<style scoped>\n",
              "    .dataframe tbody tr th:only-of-type {\n",
              "        vertical-align: middle;\n",
              "    }\n",
              "\n",
              "    .dataframe tbody tr th {\n",
              "        vertical-align: top;\n",
              "    }\n",
              "\n",
              "    .dataframe thead th {\n",
              "        text-align: right;\n",
              "    }\n",
              "</style>\n",
              "<table border=\"1\" class=\"dataframe\">\n",
              "  <thead>\n",
              "    <tr style=\"text-align: right;\">\n",
              "      <th></th>\n",
              "      <th>condition</th>\n",
              "      <th>voltage</th>\n",
              "      <th>current</th>\n",
              "      <th>temperature</th>\n",
              "      <th>standardized_voltage</th>\n",
              "      <th>standardized_current</th>\n",
              "    </tr>\n",
              "  </thead>\n",
              "  <tbody>\n",
              "    <tr>\n",
              "      <th>0</th>\n",
              "      <td>normal</td>\n",
              "      <td>13.036111</td>\n",
              "      <td>458.460370</td>\n",
              "      <td>6.879090</td>\n",
              "      <td>-0.68</td>\n",
              "      <td>-0.95</td>\n",
              "    </tr>\n",
              "    <tr>\n",
              "      <th>1</th>\n",
              "      <td>normal</td>\n",
              "      <td>11.135509</td>\n",
              "      <td>458.156781</td>\n",
              "      <td>6.394905</td>\n",
              "      <td>-0.88</td>\n",
              "      <td>-0.95</td>\n",
              "    </tr>\n",
              "    <tr>\n",
              "      <th>2</th>\n",
              "      <td>normal</td>\n",
              "      <td>10.296578</td>\n",
              "      <td>459.431151</td>\n",
              "      <td>2.736525</td>\n",
              "      <td>-0.98</td>\n",
              "      <td>-0.95</td>\n",
              "    </tr>\n",
              "    <tr>\n",
              "      <th>3</th>\n",
              "      <td>normal</td>\n",
              "      <td>10.553064</td>\n",
              "      <td>457.141002</td>\n",
              "      <td>5.624983</td>\n",
              "      <td>-0.95</td>\n",
              "      <td>-0.95</td>\n",
              "    </tr>\n",
              "    <tr>\n",
              "      <th>4</th>\n",
              "      <td>normal</td>\n",
              "      <td>9.880487</td>\n",
              "      <td>460.601899</td>\n",
              "      <td>1.843793</td>\n",
              "      <td>-1.02</td>\n",
              "      <td>-0.95</td>\n",
              "    </tr>\n",
              "  </tbody>\n",
              "</table>\n",
              "</div>\n",
              "      <button class=\"colab-df-convert\" onclick=\"convertToInteractive('df-b4bc718b-f89e-4e44-968d-f812b24b1986')\"\n",
              "              title=\"Convert this dataframe to an interactive table.\"\n",
              "              style=\"display:none;\">\n",
              "        \n",
              "  <svg xmlns=\"http://www.w3.org/2000/svg\" height=\"24px\"viewBox=\"0 0 24 24\"\n",
              "       width=\"24px\">\n",
              "    <path d=\"M0 0h24v24H0V0z\" fill=\"none\"/>\n",
              "    <path d=\"M18.56 5.44l.94 2.06.94-2.06 2.06-.94-2.06-.94-.94-2.06-.94 2.06-2.06.94zm-11 1L8.5 8.5l.94-2.06 2.06-.94-2.06-.94L8.5 2.5l-.94 2.06-2.06.94zm10 10l.94 2.06.94-2.06 2.06-.94-2.06-.94-.94-2.06-.94 2.06-2.06.94z\"/><path d=\"M17.41 7.96l-1.37-1.37c-.4-.4-.92-.59-1.43-.59-.52 0-1.04.2-1.43.59L10.3 9.45l-7.72 7.72c-.78.78-.78 2.05 0 2.83L4 21.41c.39.39.9.59 1.41.59.51 0 1.02-.2 1.41-.59l7.78-7.78 2.81-2.81c.8-.78.8-2.07 0-2.86zM5.41 20L4 18.59l7.72-7.72 1.47 1.35L5.41 20z\"/>\n",
              "  </svg>\n",
              "      </button>\n",
              "      \n",
              "  <style>\n",
              "    .colab-df-container {\n",
              "      display:flex;\n",
              "      flex-wrap:wrap;\n",
              "      gap: 12px;\n",
              "    }\n",
              "\n",
              "    .colab-df-convert {\n",
              "      background-color: #E8F0FE;\n",
              "      border: none;\n",
              "      border-radius: 50%;\n",
              "      cursor: pointer;\n",
              "      display: none;\n",
              "      fill: #1967D2;\n",
              "      height: 32px;\n",
              "      padding: 0 0 0 0;\n",
              "      width: 32px;\n",
              "    }\n",
              "\n",
              "    .colab-df-convert:hover {\n",
              "      background-color: #E2EBFA;\n",
              "      box-shadow: 0px 1px 2px rgba(60, 64, 67, 0.3), 0px 1px 3px 1px rgba(60, 64, 67, 0.15);\n",
              "      fill: #174EA6;\n",
              "    }\n",
              "\n",
              "    [theme=dark] .colab-df-convert {\n",
              "      background-color: #3B4455;\n",
              "      fill: #D2E3FC;\n",
              "    }\n",
              "\n",
              "    [theme=dark] .colab-df-convert:hover {\n",
              "      background-color: #434B5C;\n",
              "      box-shadow: 0px 1px 3px 1px rgba(0, 0, 0, 0.15);\n",
              "      filter: drop-shadow(0px 1px 2px rgba(0, 0, 0, 0.3));\n",
              "      fill: #FFFFFF;\n",
              "    }\n",
              "  </style>\n",
              "\n",
              "      <script>\n",
              "        const buttonEl =\n",
              "          document.querySelector('#df-b4bc718b-f89e-4e44-968d-f812b24b1986 button.colab-df-convert');\n",
              "        buttonEl.style.display =\n",
              "          google.colab.kernel.accessAllowed ? 'block' : 'none';\n",
              "\n",
              "        async function convertToInteractive(key) {\n",
              "          const element = document.querySelector('#df-b4bc718b-f89e-4e44-968d-f812b24b1986');\n",
              "          const dataTable =\n",
              "            await google.colab.kernel.invokeFunction('convertToInteractive',\n",
              "                                                     [key], {});\n",
              "          if (!dataTable) return;\n",
              "\n",
              "          const docLinkHtml = 'Like what you see? Visit the ' +\n",
              "            '<a target=\"_blank\" href=https://colab.research.google.com/notebooks/data_table.ipynb>data table notebook</a>'\n",
              "            + ' to learn more about interactive tables.';\n",
              "          element.innerHTML = '';\n",
              "          dataTable['output_type'] = 'display_data';\n",
              "          await google.colab.output.renderOutput(dataTable, element);\n",
              "          const docLink = document.createElement('div');\n",
              "          docLink.innerHTML = docLinkHtml;\n",
              "          element.appendChild(docLink);\n",
              "        }\n",
              "      </script>\n",
              "    </div>\n",
              "  </div>\n",
              "  "
            ]
          },
          "metadata": {},
          "execution_count": 9
        }
      ]
    },
    {
      "cell_type": "markdown",
      "source": [
        "#Question 2 - c)standardized temperature"
      ],
      "metadata": {
        "id": "zezJ7FJHMyzz"
      }
    },
    {
      "cell_type": "code",
      "source": [
        "csv_data['standardized_temperature'] = ((csv_data['temperature'] - mean_temperature )/ std_temperature).round(2)\n",
        "csv_data.head()"
      ],
      "metadata": {
        "colab": {
          "base_uri": "https://localhost:8080/",
          "height": 206
        },
        "id": "U56tdBgpMyi_",
        "outputId": "c89caa37-894d-4d11-92e1-02668747d62c"
      },
      "execution_count": 10,
      "outputs": [
        {
          "output_type": "execute_result",
          "data": {
            "text/plain": [
              "  condition    voltage     current  temperature  standardized_voltage  \\\n",
              "0    normal  13.036111  458.460370     6.879090                 -0.68   \n",
              "1    normal  11.135509  458.156781     6.394905                 -0.88   \n",
              "2    normal  10.296578  459.431151     2.736525                 -0.98   \n",
              "3    normal  10.553064  457.141002     5.624983                 -0.95   \n",
              "4    normal   9.880487  460.601899     1.843793                 -1.02   \n",
              "\n",
              "   standardized_current  standardized_temperature  \n",
              "0                 -0.95                     -0.85  \n",
              "1                 -0.95                     -0.87  \n",
              "2                 -0.95                     -1.02  \n",
              "3                 -0.95                     -0.90  \n",
              "4                 -0.95                     -1.05  "
            ],
            "text/html": [
              "\n",
              "  <div id=\"df-40264179-e6eb-49d9-aa97-9d6984603fa5\">\n",
              "    <div class=\"colab-df-container\">\n",
              "      <div>\n",
              "<style scoped>\n",
              "    .dataframe tbody tr th:only-of-type {\n",
              "        vertical-align: middle;\n",
              "    }\n",
              "\n",
              "    .dataframe tbody tr th {\n",
              "        vertical-align: top;\n",
              "    }\n",
              "\n",
              "    .dataframe thead th {\n",
              "        text-align: right;\n",
              "    }\n",
              "</style>\n",
              "<table border=\"1\" class=\"dataframe\">\n",
              "  <thead>\n",
              "    <tr style=\"text-align: right;\">\n",
              "      <th></th>\n",
              "      <th>condition</th>\n",
              "      <th>voltage</th>\n",
              "      <th>current</th>\n",
              "      <th>temperature</th>\n",
              "      <th>standardized_voltage</th>\n",
              "      <th>standardized_current</th>\n",
              "      <th>standardized_temperature</th>\n",
              "    </tr>\n",
              "  </thead>\n",
              "  <tbody>\n",
              "    <tr>\n",
              "      <th>0</th>\n",
              "      <td>normal</td>\n",
              "      <td>13.036111</td>\n",
              "      <td>458.460370</td>\n",
              "      <td>6.879090</td>\n",
              "      <td>-0.68</td>\n",
              "      <td>-0.95</td>\n",
              "      <td>-0.85</td>\n",
              "    </tr>\n",
              "    <tr>\n",
              "      <th>1</th>\n",
              "      <td>normal</td>\n",
              "      <td>11.135509</td>\n",
              "      <td>458.156781</td>\n",
              "      <td>6.394905</td>\n",
              "      <td>-0.88</td>\n",
              "      <td>-0.95</td>\n",
              "      <td>-0.87</td>\n",
              "    </tr>\n",
              "    <tr>\n",
              "      <th>2</th>\n",
              "      <td>normal</td>\n",
              "      <td>10.296578</td>\n",
              "      <td>459.431151</td>\n",
              "      <td>2.736525</td>\n",
              "      <td>-0.98</td>\n",
              "      <td>-0.95</td>\n",
              "      <td>-1.02</td>\n",
              "    </tr>\n",
              "    <tr>\n",
              "      <th>3</th>\n",
              "      <td>normal</td>\n",
              "      <td>10.553064</td>\n",
              "      <td>457.141002</td>\n",
              "      <td>5.624983</td>\n",
              "      <td>-0.95</td>\n",
              "      <td>-0.95</td>\n",
              "      <td>-0.90</td>\n",
              "    </tr>\n",
              "    <tr>\n",
              "      <th>4</th>\n",
              "      <td>normal</td>\n",
              "      <td>9.880487</td>\n",
              "      <td>460.601899</td>\n",
              "      <td>1.843793</td>\n",
              "      <td>-1.02</td>\n",
              "      <td>-0.95</td>\n",
              "      <td>-1.05</td>\n",
              "    </tr>\n",
              "  </tbody>\n",
              "</table>\n",
              "</div>\n",
              "      <button class=\"colab-df-convert\" onclick=\"convertToInteractive('df-40264179-e6eb-49d9-aa97-9d6984603fa5')\"\n",
              "              title=\"Convert this dataframe to an interactive table.\"\n",
              "              style=\"display:none;\">\n",
              "        \n",
              "  <svg xmlns=\"http://www.w3.org/2000/svg\" height=\"24px\"viewBox=\"0 0 24 24\"\n",
              "       width=\"24px\">\n",
              "    <path d=\"M0 0h24v24H0V0z\" fill=\"none\"/>\n",
              "    <path d=\"M18.56 5.44l.94 2.06.94-2.06 2.06-.94-2.06-.94-.94-2.06-.94 2.06-2.06.94zm-11 1L8.5 8.5l.94-2.06 2.06-.94-2.06-.94L8.5 2.5l-.94 2.06-2.06.94zm10 10l.94 2.06.94-2.06 2.06-.94-2.06-.94-.94-2.06-.94 2.06-2.06.94z\"/><path d=\"M17.41 7.96l-1.37-1.37c-.4-.4-.92-.59-1.43-.59-.52 0-1.04.2-1.43.59L10.3 9.45l-7.72 7.72c-.78.78-.78 2.05 0 2.83L4 21.41c.39.39.9.59 1.41.59.51 0 1.02-.2 1.41-.59l7.78-7.78 2.81-2.81c.8-.78.8-2.07 0-2.86zM5.41 20L4 18.59l7.72-7.72 1.47 1.35L5.41 20z\"/>\n",
              "  </svg>\n",
              "      </button>\n",
              "      \n",
              "  <style>\n",
              "    .colab-df-container {\n",
              "      display:flex;\n",
              "      flex-wrap:wrap;\n",
              "      gap: 12px;\n",
              "    }\n",
              "\n",
              "    .colab-df-convert {\n",
              "      background-color: #E8F0FE;\n",
              "      border: none;\n",
              "      border-radius: 50%;\n",
              "      cursor: pointer;\n",
              "      display: none;\n",
              "      fill: #1967D2;\n",
              "      height: 32px;\n",
              "      padding: 0 0 0 0;\n",
              "      width: 32px;\n",
              "    }\n",
              "\n",
              "    .colab-df-convert:hover {\n",
              "      background-color: #E2EBFA;\n",
              "      box-shadow: 0px 1px 2px rgba(60, 64, 67, 0.3), 0px 1px 3px 1px rgba(60, 64, 67, 0.15);\n",
              "      fill: #174EA6;\n",
              "    }\n",
              "\n",
              "    [theme=dark] .colab-df-convert {\n",
              "      background-color: #3B4455;\n",
              "      fill: #D2E3FC;\n",
              "    }\n",
              "\n",
              "    [theme=dark] .colab-df-convert:hover {\n",
              "      background-color: #434B5C;\n",
              "      box-shadow: 0px 1px 3px 1px rgba(0, 0, 0, 0.15);\n",
              "      filter: drop-shadow(0px 1px 2px rgba(0, 0, 0, 0.3));\n",
              "      fill: #FFFFFF;\n",
              "    }\n",
              "  </style>\n",
              "\n",
              "      <script>\n",
              "        const buttonEl =\n",
              "          document.querySelector('#df-40264179-e6eb-49d9-aa97-9d6984603fa5 button.colab-df-convert');\n",
              "        buttonEl.style.display =\n",
              "          google.colab.kernel.accessAllowed ? 'block' : 'none';\n",
              "\n",
              "        async function convertToInteractive(key) {\n",
              "          const element = document.querySelector('#df-40264179-e6eb-49d9-aa97-9d6984603fa5');\n",
              "          const dataTable =\n",
              "            await google.colab.kernel.invokeFunction('convertToInteractive',\n",
              "                                                     [key], {});\n",
              "          if (!dataTable) return;\n",
              "\n",
              "          const docLinkHtml = 'Like what you see? Visit the ' +\n",
              "            '<a target=\"_blank\" href=https://colab.research.google.com/notebooks/data_table.ipynb>data table notebook</a>'\n",
              "            + ' to learn more about interactive tables.';\n",
              "          element.innerHTML = '';\n",
              "          dataTable['output_type'] = 'display_data';\n",
              "          await google.colab.output.renderOutput(dataTable, element);\n",
              "          const docLink = document.createElement('div');\n",
              "          docLink.innerHTML = docLinkHtml;\n",
              "          element.appendChild(docLink);\n",
              "        }\n",
              "      </script>\n",
              "    </div>\n",
              "  </div>\n",
              "  "
            ]
          },
          "metadata": {},
          "execution_count": 10
        }
      ]
    },
    {
      "cell_type": "markdown",
      "source": [
        "#Question 4"
      ],
      "metadata": {
        "id": "-1MjmITfPkxV"
      }
    },
    {
      "cell_type": "code",
      "source": [
        "from math import sqrt\n",
        "# define student number \n",
        "a = 6\n",
        "b = 4\n",
        "c = 4\n",
        "d = 4\n",
        "\n",
        "w1_1stpart = 1/(sqrt((19+c-a)**2 + (a)**2 + (43 + d - b)**2))\n",
        "\n",
        "matrix1 = [(a-c-19), (a*(-1)**b), (b-d-43)]\n",
        "matrix1\n",
        "\n",
        "\n",
        "w1 = np.dot(w1_1stpart,matrix1)\n",
        "w1.round(decimals=2)\n",
        "\n",
        "bias = 1 / sqrt(2210+a**2)\n",
        "b1 = round(bias,2)\n",
        "\n",
        "\n",
        "print('w1', w1,\n",
        "      'bias', bias)"
      ],
      "metadata": {
        "colab": {
          "base_uri": "https://localhost:8080/"
        },
        "id": "Wsx4FVIuPmID",
        "outputId": "5b0abbe3-495b-4b7c-a4ec-c91e74d290ba"
      },
      "execution_count": 11,
      "outputs": [
        {
          "output_type": "stream",
          "name": "stdout",
          "text": [
            "w1 [-0.36460209  0.12868309 -0.92222881] bias 0.021100615513931942\n"
          ]
        }
      ]
    },
    {
      "cell_type": "markdown",
      "source": [
        "# Question 4 - b) Calculate lenght vector |w1|"
      ],
      "metadata": {
        "id": "jp-Y6Rs5Z6yt"
      }
    },
    {
      "cell_type": "code",
      "source": [
        "# lenght vector |w1|\n",
        "\n",
        "# mag = np.sqrt(w1.dot(w1))\n",
        "# mag\n",
        "\n",
        "lenght_vector_w1 = np.linalg.norm(w1)\n",
        "lenght_vector_w1\n",
        "\n"
      ],
      "metadata": {
        "colab": {
          "base_uri": "https://localhost:8080/"
        },
        "id": "XIUaKUWQPphH",
        "outputId": "0f123d95-6945-4125-b1a8-9c157526c694"
      },
      "execution_count": 12,
      "outputs": [
        {
          "output_type": "execute_result",
          "data": {
            "text/plain": [
              "1.0"
            ]
          },
          "metadata": {},
          "execution_count": 12
        }
      ]
    },
    {
      "cell_type": "markdown",
      "source": [
        "# Question 4- c) calculate result of v*w + B"
      ],
      "metadata": {
        "id": "YuQ2r28DaECT"
      }
    },
    {
      "cell_type": "code",
      "source": [
        "csv_data.head()"
      ],
      "metadata": {
        "colab": {
          "base_uri": "https://localhost:8080/",
          "height": 206
        },
        "id": "XfyrauCUaK7J",
        "outputId": "afd1c6cf-9cb4-4aff-cc0f-bd5047b408f0"
      },
      "execution_count": 13,
      "outputs": [
        {
          "output_type": "execute_result",
          "data": {
            "text/plain": [
              "  condition    voltage     current  temperature  standardized_voltage  \\\n",
              "0    normal  13.036111  458.460370     6.879090                 -0.68   \n",
              "1    normal  11.135509  458.156781     6.394905                 -0.88   \n",
              "2    normal  10.296578  459.431151     2.736525                 -0.98   \n",
              "3    normal  10.553064  457.141002     5.624983                 -0.95   \n",
              "4    normal   9.880487  460.601899     1.843793                 -1.02   \n",
              "\n",
              "   standardized_current  standardized_temperature  \n",
              "0                 -0.95                     -0.85  \n",
              "1                 -0.95                     -0.87  \n",
              "2                 -0.95                     -1.02  \n",
              "3                 -0.95                     -0.90  \n",
              "4                 -0.95                     -1.05  "
            ],
            "text/html": [
              "\n",
              "  <div id=\"df-eb2bcd49-b018-48ce-b42a-4f08a67bb4f9\">\n",
              "    <div class=\"colab-df-container\">\n",
              "      <div>\n",
              "<style scoped>\n",
              "    .dataframe tbody tr th:only-of-type {\n",
              "        vertical-align: middle;\n",
              "    }\n",
              "\n",
              "    .dataframe tbody tr th {\n",
              "        vertical-align: top;\n",
              "    }\n",
              "\n",
              "    .dataframe thead th {\n",
              "        text-align: right;\n",
              "    }\n",
              "</style>\n",
              "<table border=\"1\" class=\"dataframe\">\n",
              "  <thead>\n",
              "    <tr style=\"text-align: right;\">\n",
              "      <th></th>\n",
              "      <th>condition</th>\n",
              "      <th>voltage</th>\n",
              "      <th>current</th>\n",
              "      <th>temperature</th>\n",
              "      <th>standardized_voltage</th>\n",
              "      <th>standardized_current</th>\n",
              "      <th>standardized_temperature</th>\n",
              "    </tr>\n",
              "  </thead>\n",
              "  <tbody>\n",
              "    <tr>\n",
              "      <th>0</th>\n",
              "      <td>normal</td>\n",
              "      <td>13.036111</td>\n",
              "      <td>458.460370</td>\n",
              "      <td>6.879090</td>\n",
              "      <td>-0.68</td>\n",
              "      <td>-0.95</td>\n",
              "      <td>-0.85</td>\n",
              "    </tr>\n",
              "    <tr>\n",
              "      <th>1</th>\n",
              "      <td>normal</td>\n",
              "      <td>11.135509</td>\n",
              "      <td>458.156781</td>\n",
              "      <td>6.394905</td>\n",
              "      <td>-0.88</td>\n",
              "      <td>-0.95</td>\n",
              "      <td>-0.87</td>\n",
              "    </tr>\n",
              "    <tr>\n",
              "      <th>2</th>\n",
              "      <td>normal</td>\n",
              "      <td>10.296578</td>\n",
              "      <td>459.431151</td>\n",
              "      <td>2.736525</td>\n",
              "      <td>-0.98</td>\n",
              "      <td>-0.95</td>\n",
              "      <td>-1.02</td>\n",
              "    </tr>\n",
              "    <tr>\n",
              "      <th>3</th>\n",
              "      <td>normal</td>\n",
              "      <td>10.553064</td>\n",
              "      <td>457.141002</td>\n",
              "      <td>5.624983</td>\n",
              "      <td>-0.95</td>\n",
              "      <td>-0.95</td>\n",
              "      <td>-0.90</td>\n",
              "    </tr>\n",
              "    <tr>\n",
              "      <th>4</th>\n",
              "      <td>normal</td>\n",
              "      <td>9.880487</td>\n",
              "      <td>460.601899</td>\n",
              "      <td>1.843793</td>\n",
              "      <td>-1.02</td>\n",
              "      <td>-0.95</td>\n",
              "      <td>-1.05</td>\n",
              "    </tr>\n",
              "  </tbody>\n",
              "</table>\n",
              "</div>\n",
              "      <button class=\"colab-df-convert\" onclick=\"convertToInteractive('df-eb2bcd49-b018-48ce-b42a-4f08a67bb4f9')\"\n",
              "              title=\"Convert this dataframe to an interactive table.\"\n",
              "              style=\"display:none;\">\n",
              "        \n",
              "  <svg xmlns=\"http://www.w3.org/2000/svg\" height=\"24px\"viewBox=\"0 0 24 24\"\n",
              "       width=\"24px\">\n",
              "    <path d=\"M0 0h24v24H0V0z\" fill=\"none\"/>\n",
              "    <path d=\"M18.56 5.44l.94 2.06.94-2.06 2.06-.94-2.06-.94-.94-2.06-.94 2.06-2.06.94zm-11 1L8.5 8.5l.94-2.06 2.06-.94-2.06-.94L8.5 2.5l-.94 2.06-2.06.94zm10 10l.94 2.06.94-2.06 2.06-.94-2.06-.94-.94-2.06-.94 2.06-2.06.94z\"/><path d=\"M17.41 7.96l-1.37-1.37c-.4-.4-.92-.59-1.43-.59-.52 0-1.04.2-1.43.59L10.3 9.45l-7.72 7.72c-.78.78-.78 2.05 0 2.83L4 21.41c.39.39.9.59 1.41.59.51 0 1.02-.2 1.41-.59l7.78-7.78 2.81-2.81c.8-.78.8-2.07 0-2.86zM5.41 20L4 18.59l7.72-7.72 1.47 1.35L5.41 20z\"/>\n",
              "  </svg>\n",
              "      </button>\n",
              "      \n",
              "  <style>\n",
              "    .colab-df-container {\n",
              "      display:flex;\n",
              "      flex-wrap:wrap;\n",
              "      gap: 12px;\n",
              "    }\n",
              "\n",
              "    .colab-df-convert {\n",
              "      background-color: #E8F0FE;\n",
              "      border: none;\n",
              "      border-radius: 50%;\n",
              "      cursor: pointer;\n",
              "      display: none;\n",
              "      fill: #1967D2;\n",
              "      height: 32px;\n",
              "      padding: 0 0 0 0;\n",
              "      width: 32px;\n",
              "    }\n",
              "\n",
              "    .colab-df-convert:hover {\n",
              "      background-color: #E2EBFA;\n",
              "      box-shadow: 0px 1px 2px rgba(60, 64, 67, 0.3), 0px 1px 3px 1px rgba(60, 64, 67, 0.15);\n",
              "      fill: #174EA6;\n",
              "    }\n",
              "\n",
              "    [theme=dark] .colab-df-convert {\n",
              "      background-color: #3B4455;\n",
              "      fill: #D2E3FC;\n",
              "    }\n",
              "\n",
              "    [theme=dark] .colab-df-convert:hover {\n",
              "      background-color: #434B5C;\n",
              "      box-shadow: 0px 1px 3px 1px rgba(0, 0, 0, 0.15);\n",
              "      filter: drop-shadow(0px 1px 2px rgba(0, 0, 0, 0.3));\n",
              "      fill: #FFFFFF;\n",
              "    }\n",
              "  </style>\n",
              "\n",
              "      <script>\n",
              "        const buttonEl =\n",
              "          document.querySelector('#df-eb2bcd49-b018-48ce-b42a-4f08a67bb4f9 button.colab-df-convert');\n",
              "        buttonEl.style.display =\n",
              "          google.colab.kernel.accessAllowed ? 'block' : 'none';\n",
              "\n",
              "        async function convertToInteractive(key) {\n",
              "          const element = document.querySelector('#df-eb2bcd49-b018-48ce-b42a-4f08a67bb4f9');\n",
              "          const dataTable =\n",
              "            await google.colab.kernel.invokeFunction('convertToInteractive',\n",
              "                                                     [key], {});\n",
              "          if (!dataTable) return;\n",
              "\n",
              "          const docLinkHtml = 'Like what you see? Visit the ' +\n",
              "            '<a target=\"_blank\" href=https://colab.research.google.com/notebooks/data_table.ipynb>data table notebook</a>'\n",
              "            + ' to learn more about interactive tables.';\n",
              "          element.innerHTML = '';\n",
              "          dataTable['output_type'] = 'display_data';\n",
              "          await google.colab.output.renderOutput(dataTable, element);\n",
              "          const docLink = document.createElement('div');\n",
              "          docLink.innerHTML = docLinkHtml;\n",
              "          element.appendChild(docLink);\n",
              "        }\n",
              "      </script>\n",
              "    </div>\n",
              "  </div>\n",
              "  "
            ]
          },
          "metadata": {},
          "execution_count": 13
        }
      ]
    },
    {
      "cell_type": "code",
      "source": [
        "#define n vectors\n",
        "n1 = [(csv_data['standardized_voltage'][0]),\n",
        "      (csv_data['standardized_current'][0]),\n",
        "      (csv_data['standardized_temperature'][0])]\n",
        "\n",
        "n2= [(csv_data['standardized_voltage'][1]),\n",
        "      (csv_data['standardized_current'][1]),\n",
        "      (csv_data['standardized_temperature'][1])]\n",
        "\n",
        "n3= [(csv_data['standardized_voltage'][2]),\n",
        "      (csv_data['standardized_current'][2]),\n",
        "      (csv_data['standardized_temperature'][2])]\n",
        "  \n",
        "n4 = [(csv_data['standardized_voltage'][3]),\n",
        "      (csv_data['standardized_current'][3]),\n",
        "      (csv_data['standardized_temperature'][3])]\n",
        "\n",
        "n5 = [(csv_data['standardized_voltage'][4]),\n",
        "      (csv_data['standardized_current'][4]),\n",
        "      (csv_data['standardized_temperature'][4])]\n",
        "\n",
        "print(n1)\n",
        "print(n2)\n",
        "print(n3)\n",
        "print(n4)\n",
        "print(n5)"
      ],
      "metadata": {
        "colab": {
          "base_uri": "https://localhost:8080/"
        },
        "id": "ugtaBpq8aVRI",
        "outputId": "8a122ec1-01ef-4f61-cc41-411f1ddf3331"
      },
      "execution_count": 14,
      "outputs": [
        {
          "output_type": "stream",
          "name": "stdout",
          "text": [
            "[-0.68, -0.95, -0.85]\n",
            "[-0.88, -0.95, -0.87]\n",
            "[-0.98, -0.95, -1.02]\n",
            "[-0.95, -0.95, -0.9]\n",
            "[-1.02, -0.95, -1.05]\n"
          ]
        }
      ]
    },
    {
      "cell_type": "code",
      "source": [
        "#define f vectors\n",
        "f1 = [(csv_data['standardized_voltage'][5]),\n",
        "      (csv_data['standardized_current'][5]),\n",
        "      (csv_data['standardized_temperature'][5])]\n",
        "\n",
        "f2= [(csv_data['standardized_voltage'][6]),\n",
        "      (csv_data['standardized_current'][6]),\n",
        "      (csv_data['standardized_temperature'][6])]\n",
        "\n",
        "f3= [(csv_data['standardized_voltage'][7]),\n",
        "      (csv_data['standardized_current'][7]),\n",
        "      (csv_data['standardized_temperature'][7])]\n",
        "  \n",
        "f4 = [(csv_data['standardized_voltage'][8]),\n",
        "      (csv_data['standardized_current'][8]),\n",
        "      (csv_data['standardized_temperature'][8])]\n",
        "\n",
        "f5 = [(csv_data['standardized_voltage'][9]),\n",
        "      (csv_data['standardized_current'][9]),\n",
        "      (csv_data['standardized_temperature'][9])]\n",
        "\n",
        "print(f1)\n",
        "print(f2)\n",
        "print(f3)\n",
        "print(f4)\n",
        "print(f5)"
      ],
      "metadata": {
        "colab": {
          "base_uri": "https://localhost:8080/"
        },
        "id": "NV5geLg1bnQu",
        "outputId": "31199795-decd-4730-dddc-254f683da6e6"
      },
      "execution_count": 15,
      "outputs": [
        {
          "output_type": "stream",
          "name": "stdout",
          "text": [
            "[0.9, 0.95, 1.12]\n",
            "[0.99, 0.95, 1.07]\n",
            "[1.59, 0.94, 0.81]\n",
            "[0.6, 0.95, 0.74]\n",
            "[0.44, 0.94, 0.98]\n"
          ]
        }
      ]
    },
    {
      "cell_type": "code",
      "source": [
        "compute_n1 = (np.dot(n1, w1)+ b1).round(decimals=2)\n",
        "\n",
        "compute_n2 = (np.dot(n2, w1)+ b1).round(decimals=2)\n",
        "\n",
        "compute_n3 = (np.dot(n3, w1)+ b1).round(decimals=2)\n",
        "\n",
        "compute_n4 = (np.dot(n4, w1)+ b1).round(decimals=2)\n",
        "\n",
        "compute_n5 = (np.dot(n5, w1)+ b1).round(decimals=2)\n",
        "\n",
        "compute_f1 = (np.dot(f1, w1)+ b1).round(decimals=2)\n",
        "\n",
        "compute_f2 = (np.dot(f2, w1)+ b1).round(decimals=2)\n",
        "\n",
        "compute_f3 = (np.dot(f3, w1)+ b1).round(decimals=2)\n",
        "\n",
        "compute_f4 = (np.dot(f4, w1)+ b1).round(decimals=2)\n",
        "\n",
        "compute_f5 = (np.dot(f5, w1)+ b1).round(decimals=2)\n",
        "\n",
        "print('calculation for n1', compute_n1)\n",
        "print('calculation for n2', compute_n2)\n",
        "print('calculation for n3', compute_n3)\n",
        "print('calculation for n4', compute_n4)\n",
        "print('calculation for n5', compute_n5)\n",
        "\n",
        "\n",
        "print('calculation for f1', compute_f1)\n",
        "print('calculation for f2', compute_f2)\n",
        "print('calculation for f3', compute_f3)\n",
        "print('calculation for f4', compute_f4)\n",
        "print('calculation for f5', compute_f5)\n",
        "\n"
      ],
      "metadata": {
        "colab": {
          "base_uri": "https://localhost:8080/"
        },
        "id": "8HKeFhlSb_Ko",
        "outputId": "0f93f02e-8073-44e6-db22-b1d89e2a441d"
      },
      "execution_count": 16,
      "outputs": [
        {
          "output_type": "stream",
          "name": "stdout",
          "text": [
            "calculation for n1 0.93\n",
            "calculation for n2 1.02\n",
            "calculation for n3 1.2\n",
            "calculation for n4 1.07\n",
            "calculation for n5 1.24\n",
            "calculation for f1 -1.22\n",
            "calculation for f2 -1.21\n",
            "calculation for f3 -1.19\n",
            "calculation for f4 -0.76\n",
            "calculation for f5 -0.92\n"
          ]
        }
      ]
    },
    {
      "cell_type": "markdown",
      "source": [
        "# Question 4- d) Calculate Loss Function \n"
      ],
      "metadata": {
        "id": "2wf1b3lS9EIE"
      }
    },
    {
      "cell_type": "code",
      "source": [
        "L = 10\n",
        "print ('>>> Loss Function = ', L)\n",
        "# all values are incorrect"
      ],
      "metadata": {
        "colab": {
          "base_uri": "https://localhost:8080/"
        },
        "id": "n2mI7l4mpjD8",
        "outputId": "4a8960c0-c03e-45f4-abed-a734f5ccfc89"
      },
      "execution_count": 8,
      "outputs": [
        {
          "output_type": "stream",
          "name": "stdout",
          "text": [
            ">>> Loss Function =  10\n"
          ]
        }
      ]
    },
    {
      "cell_type": "markdown",
      "source": [
        "#Question 4 -e) caculate accuracy"
      ],
      "metadata": {
        "id": "fSjQKm_S9NIE"
      }
    },
    {
      "cell_type": "code",
      "source": [
        "A = (10-L)/10\n",
        "print ('>>> Accuracy = ', A)"
      ],
      "metadata": {
        "colab": {
          "base_uri": "https://localhost:8080/"
        },
        "id": "rxGPA-1G9Cd2",
        "outputId": "0d657069-7973-4c4b-f5db-574e76eba238"
      },
      "execution_count": 7,
      "outputs": [
        {
          "output_type": "stream",
          "name": "stdout",
          "text": [
            ">>> Accuracy =  0.0\n"
          ]
        }
      ]
    },
    {
      "cell_type": "markdown",
      "source": [
        "#Question 5 "
      ],
      "metadata": {
        "id": "a5tJ_yeS9d1n"
      }
    },
    {
      "cell_type": "code",
      "source": [
        "# linear mappingover matrix by identity vectors\n",
        "\n",
        "Me1 = np.array([(-1),(a*10**(-2)),(0)])\n",
        "Me2 = np.array([(b*10**(-2)),(1),(c*10**(-2))])\n",
        "Me3 = np.array([(0),(d*10**(-2)),(-1)])\n",
        "\n",
        "print('me1 =', Me1)\n",
        "print('me2 =', Me2)\n",
        "print('me3 =', Me3)\n",
        "print('----------------------')\n",
        "\n",
        "print('')\n",
        "\n",
        "matrix = np.array([[Me1], [Me2], [Me3]])\n",
        "\n",
        "#transpose to get the vertical values\n",
        "M= np.array([[Me1], [Me2], [Me3]]).T\n",
        "\n",
        "print(matrix)\n",
        "print('----------------------')\n",
        "\n",
        "print('We have the arrays, horizonal, so we need Transpose for get the values in the vertical way')\n",
        "\n",
        "print('>>> M =')\n",
        "\n",
        "print(M)\n",
        "# w = np.array([1,2,3])\n",
        "# print('>>> w =', w)\n",
        "# print('')\n",
        "\n",
        "# print('>>> matrix result')\n",
        "# print(matrix)\n",
        "# print('')\n",
        "\n",
        "# print('>>> M, result of matmu1 product ')\n",
        "# print('')\n",
        "\n",
        "# M = np.matmul(matrix, w)\n",
        "# print(M)\n",
        "# print('')\n",
        "\n",
        "# print('>>> M, result of dot product ')\n",
        "# M_using_dot = np.dot(matrix,w)\n",
        "# print(M_using_dot)\n"
      ],
      "metadata": {
        "colab": {
          "base_uri": "https://localhost:8080/"
        },
        "id": "nKyR6YKE9hS8",
        "outputId": "9d5047cc-4d8a-4e09-8245-8ff9c732defb"
      },
      "execution_count": 117,
      "outputs": [
        {
          "output_type": "stream",
          "name": "stdout",
          "text": [
            "me1 = [-1.    0.06  0.  ]\n",
            "me2 = [0.04 1.   0.04]\n",
            "me3 = [ 0.    0.04 -1.  ]\n",
            "----------------------\n",
            "\n",
            "[[[-1.    0.06  0.  ]]\n",
            "\n",
            " [[ 0.04  1.    0.04]]\n",
            "\n",
            " [[ 0.    0.04 -1.  ]]]\n",
            "----------------------\n",
            "We have the arrays, horizonal, so we need Transpose for get the values in the vertical way\n",
            ">>> M =\n",
            "[[[-1.    0.04  0.  ]]\n",
            "\n",
            " [[ 0.06  1.    0.04]]\n",
            "\n",
            " [[ 0.    0.04 -1.  ]]]\n"
          ]
        }
      ]
    },
    {
      "cell_type": "markdown",
      "source": [
        "# Question 6- a) find u"
      ],
      "metadata": {
        "id": "P3JWUcAuldU-"
      }
    },
    {
      "cell_type": "code",
      "source": [
        "#u = Mw1\n",
        "\n",
        "u = np.dot(M,w1).round(decimals=2)\n",
        "print(u)"
      ],
      "metadata": {
        "colab": {
          "base_uri": "https://localhost:8080/"
        },
        "id": "B7vLoLGtlf2V",
        "outputId": "35c957b0-e263-467d-94f0-b7a936aebe27"
      },
      "execution_count": 88,
      "outputs": [
        {
          "output_type": "stream",
          "name": "stdout",
          "text": [
            "[[0.37]\n",
            " [0.07]\n",
            " [0.93]]\n"
          ]
        }
      ]
    },
    {
      "cell_type": "markdown",
      "source": [
        "# Question 6 - b) calculate w2"
      ],
      "metadata": {
        "id": "Zv-WJg1TmDeV"
      }
    },
    {
      "cell_type": "code",
      "source": [
        "# w2 = u / |u| \n",
        "\n",
        "#calculate the lenght vector\n",
        "\n",
        "lenght_vector_u =(np.linalg.norm(u)).round(decimals=2)\n",
        "print('>>> lenght_vector_u = ', lenght_vector_u)\n",
        "\n",
        "\n",
        "w2= (u / lenght_vector_u).round(decimals=2)\n",
        "print ('>>> w2 = ')\n",
        "print (w2)\n",
        "print('')\n",
        "\n",
        "b2_calculate = b1 - ((a+1)/10)\n",
        "b2 = round(b2_calculate,2)\n",
        "\n",
        "print ('>>> b2 = ', b2)\n"
      ],
      "metadata": {
        "colab": {
          "base_uri": "https://localhost:8080/"
        },
        "id": "iq_WG0f2mFvc",
        "outputId": "1efd8a18-67ce-4cc0-8c1f-e2252e74f7a6"
      },
      "execution_count": 100,
      "outputs": [
        {
          "output_type": "stream",
          "name": "stdout",
          "text": [
            ">>> lenght_vector_u =  1.0\n",
            ">>> w2 = \n",
            "[[0.37]\n",
            " [0.07]\n",
            " [0.93]]\n",
            "\n",
            ">>> b2 =  -0.68\n"
          ]
        }
      ]
    },
    {
      "cell_type": "markdown",
      "source": [
        "# Question 6-c) calculate the v*w+b"
      ],
      "metadata": {
        "id": "An48Wi2Snssh"
      }
    },
    {
      "cell_type": "code",
      "source": [
        "compute_n1_b2 = (np.dot(n1, w2)+ b2).round(decimals=2)\n",
        "\n",
        "compute_n2_b2 = (np.dot(n2, w2)+ b2).round(decimals=2)\n",
        "\n",
        "compute_n3_b2 = (np.dot(n3, w2)+ b2).round(decimals=2)\n",
        "\n",
        "compute_n4_b2 = (np.dot(n4, w2)+ b2).round(decimals=2)\n",
        "\n",
        "compute_n5_b2 = (np.dot(n5, w2)+ b2).round(decimals=2)\n",
        "\n",
        "compute_f1_b2 = (np.dot(f1, w2)+ b2).round(decimals=2)\n",
        "\n",
        "compute_f2_b2 = (np.dot(f2, w2)+ b2).round(decimals=2)\n",
        "\n",
        "compute_f3_b2 = (np.dot(f3, w2)+ b2).round(decimals=2)\n",
        "\n",
        "compute_f4_b2 = (np.dot(f4, w2)+ b2).round(decimals=2)\n",
        "\n",
        "compute_f5_b2 = (np.dot(f5, w2)+ b2).round(decimals=2)\n",
        "\n",
        "print('calculation for n1', compute_n1_b2)\n",
        "print('calculation for n2', compute_n2_b2)\n",
        "print('calculation for n3', compute_n3_b2)\n",
        "print('calculation for n4', compute_n4_b2)\n",
        "print('calculation for n5', compute_n5_b2)\n",
        "\n",
        "\n",
        "print('calculation for f1', compute_f1_b2)\n",
        "print('calculation for f2', compute_f2_b2)\n",
        "print('calculation for f3', compute_f3_b2)\n",
        "print('calculation for f4', compute_f4_b2)\n",
        "print('calculation for f5', compute_f5_b2)"
      ],
      "metadata": {
        "colab": {
          "base_uri": "https://localhost:8080/"
        },
        "id": "VhaWZwygn1iq",
        "outputId": "ed1ea07a-45a0-4ad6-87e3-ca5ab87af5c1"
      },
      "execution_count": 102,
      "outputs": [
        {
          "output_type": "stream",
          "name": "stdout",
          "text": [
            "calculation for n1 [-1.79]\n",
            "calculation for n2 [-1.88]\n",
            "calculation for n3 [-2.06]\n",
            "calculation for n4 [-1.94]\n",
            "calculation for n5 [-2.1]\n",
            "calculation for f1 [0.76]\n",
            "calculation for f2 [0.75]\n",
            "calculation for f3 [0.73]\n",
            "calculation for f4 [0.3]\n",
            "calculation for f5 [0.46]\n"
          ]
        }
      ]
    },
    {
      "cell_type": "markdown",
      "source": [
        "#Question 6 - d) calculate Loss function "
      ],
      "metadata": {
        "id": "b5RFIjVMoF9K"
      }
    },
    {
      "cell_type": "code",
      "source": [
        "L_for_b2 = 0\n",
        "\n",
        "print('>>> Loss Function =', L)\n",
        "#all values are correct"
      ],
      "metadata": {
        "colab": {
          "base_uri": "https://localhost:8080/"
        },
        "id": "IsoEywqIoI9O",
        "outputId": "b7e8f8f1-b8f7-4bab-d940-551687b37a9c"
      },
      "execution_count": 12,
      "outputs": [
        {
          "output_type": "stream",
          "name": "stdout",
          "text": [
            ">>> Loss Function = 10\n"
          ]
        }
      ]
    },
    {
      "cell_type": "markdown",
      "source": [
        "# Question 6 - e) Calaulate Accuracy"
      ],
      "metadata": {
        "id": "_WzzGGFLoLXt"
      }
    },
    {
      "cell_type": "code",
      "source": [
        "A_for_b2 = (10 - L_for_b2)/10\n",
        "print('>>> Accuracy  =',A_for_b2 )"
      ],
      "metadata": {
        "colab": {
          "base_uri": "https://localhost:8080/"
        },
        "id": "kvZiBWkAoQow",
        "outputId": "2c381ded-cbb3-489e-e610-c040e495be54"
      },
      "execution_count": 13,
      "outputs": [
        {
          "output_type": "stream",
          "name": "stdout",
          "text": [
            ">>> Accuracy  = 1.0\n"
          ]
        }
      ]
    }
  ]
}